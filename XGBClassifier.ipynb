{
  "nbformat": 4,
  "nbformat_minor": 0,
  "metadata": {
    "colab": {
      "name": "Untitled0.ipynb",
      "provenance": [],
      "machine_shape": "hm",
      "mount_file_id": "16Gt2OBOvQzaHRdEX_TaGL87P9Y8-mCZu",
      "authorship_tag": "ABX9TyPlDwet9s09QPnOZHpHZ3zo",
      "include_colab_link": true
    },
    "kernelspec": {
      "name": "python3",
      "display_name": "Python 3"
    }
  },
  "cells": [
    {
      "cell_type": "markdown",
      "metadata": {
        "id": "view-in-github",
        "colab_type": "text"
      },
      "source": [
        "<a href=\"https://colab.research.google.com/github/ManuelAlejandrG/Python/blob/master/XGBClassifier.ipynb\" target=\"_parent\"><img src=\"https://colab.research.google.com/assets/colab-badge.svg\" alt=\"Open In Colab\"/></a>"
      ]
    },
    {
      "cell_type": "markdown",
      "metadata": {
        "id": "pGjxNfMwwfHD",
        "colab_type": "text"
      },
      "source": [
        "# Clasificación Binaria de Datos con xgboost"
      ]
    },
    {
      "cell_type": "markdown",
      "metadata": {
        "id": "Ihs1OFjNwtyK",
        "colab_type": "text"
      },
      "source": [
        "Importamos las librerías que vamos a utilizar"
      ]
    },
    {
      "cell_type": "code",
      "metadata": {
        "id": "BQ7p1M4Ukk8-",
        "colab_type": "code",
        "colab": {}
      },
      "source": [
        "from numpy import loadtxt\n",
        "from xgboost import XGBClassifier\n",
        "from sklearn.model_selection import train_test_split\n",
        "from sklearn.metrics import accuracy_score\n"
      ],
      "execution_count": 0,
      "outputs": []
    },
    {
      "cell_type": "markdown",
      "metadata": {
        "id": "-YZ7jOJqxePp",
        "colab_type": "text"
      },
      "source": [
        "Cargamos los datos con numpy que están en google drive\n",
        "\n",
        "Dividimos las primeras 8 columnas como X y Y la última columna"
      ]
    },
    {
      "cell_type": "code",
      "metadata": {
        "id": "yVY5N80bpT9G",
        "colab_type": "code",
        "colab": {}
      },
      "source": [
        "dataset = loadtxt(\"/content/drive/My Drive/pima.txt\", delimiter=\",\")\n",
        "X = dataset[:,0:8]\n",
        "Y = dataset[:,8]"
      ],
      "execution_count": 0,
      "outputs": []
    },
    {
      "cell_type": "markdown",
      "metadata": {
        "id": "eSnF_hZGx2Qa",
        "colab_type": "text"
      },
      "source": [
        "Tomamos una semilla y dividimos los datos en train y test con 77% para train y 33% para test"
      ]
    },
    {
      "cell_type": "code",
      "metadata": {
        "id": "JGeTcFeipapz",
        "colab_type": "code",
        "colab": {}
      },
      "source": [
        "seed = 7\n",
        "test_size = 0.33\n",
        "X_train, X_test, y_train, y_test = train_test_split(X, Y, test_size=test_size, random_state=seed)"
      ],
      "execution_count": 0,
      "outputs": []
    },
    {
      "cell_type": "markdown",
      "metadata": {
        "id": "Cjn_Cn9XyPKq",
        "colab_type": "text"
      },
      "source": [
        "Entrenamos el modelo con XGBClassifier y entrenamos con los datos para entrenamiento"
      ]
    },
    {
      "cell_type": "code",
      "metadata": {
        "id": "iBs0k0DTtMLq",
        "colab_type": "code",
        "colab": {
          "base_uri": "https://localhost:8080/",
          "height": 143
        },
        "outputId": "6db89b37-7b55-45d9-a1e5-dd7fe4a4fabb"
      },
      "source": [
        "model = XGBClassifier()\n",
        "model.fit(X_train, y_train)"
      ],
      "execution_count": 4,
      "outputs": [
        {
          "output_type": "execute_result",
          "data": {
            "text/plain": [
              "XGBClassifier(base_score=0.5, booster='gbtree', colsample_bylevel=1,\n",
              "              colsample_bynode=1, colsample_bytree=1, gamma=0,\n",
              "              learning_rate=0.1, max_delta_step=0, max_depth=3,\n",
              "              min_child_weight=1, missing=None, n_estimators=100, n_jobs=1,\n",
              "              nthread=None, objective='binary:logistic', random_state=0,\n",
              "              reg_alpha=0, reg_lambda=1, scale_pos_weight=1, seed=None,\n",
              "              silent=None, subsample=1, verbosity=1)"
            ]
          },
          "metadata": {
            "tags": []
          },
          "execution_count": 4
        }
      ]
    },
    {
      "cell_type": "markdown",
      "metadata": {
        "id": "2L8gJB3Sy9Ie",
        "colab_type": "text"
      },
      "source": [
        "Hacemos predicciones con los datos para el test"
      ]
    },
    {
      "cell_type": "code",
      "metadata": {
        "id": "iwfP0O8mupcq",
        "colab_type": "code",
        "colab": {}
      },
      "source": [
        "predictions = model.predict(X_test)"
      ],
      "execution_count": 0,
      "outputs": []
    },
    {
      "cell_type": "markdown",
      "metadata": {
        "id": "c70TnsWzzBko",
        "colab_type": "text"
      },
      "source": [
        "Evaluamos el porcentaje de acertitud de la predicción contra los datos de test"
      ]
    },
    {
      "cell_type": "code",
      "metadata": {
        "id": "-smJXncEusEi",
        "colab_type": "code",
        "colab": {
          "base_uri": "https://localhost:8080/",
          "height": 35
        },
        "outputId": "65062412-1b18-4afe-a073-8771a81c6879"
      },
      "source": [
        "\n",
        "accuracy = accuracy_score(y_test, predictions)\n",
        "print(\"Accuracy: %.2f%%\" % (accuracy * 100.0))"
      ],
      "execution_count": 6,
      "outputs": [
        {
          "output_type": "stream",
          "text": [
            "Accuracy: 77.95%\n"
          ],
          "name": "stdout"
        }
      ]
    },
    {
      "cell_type": "markdown",
      "metadata": {
        "id": "fulAwyFFzQKk",
        "colab_type": "text"
      },
      "source": [
        "Observamos 77.95% de acierto"
      ]
    },
    {
      "cell_type": "code",
      "metadata": {
        "id": "urvAGCHCuuHZ",
        "colab_type": "code",
        "colab": {}
      },
      "source": [
        ""
      ],
      "execution_count": 0,
      "outputs": []
    }
  ]
}