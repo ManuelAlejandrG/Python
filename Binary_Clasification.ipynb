{
  "nbformat": 4,
  "nbformat_minor": 0,
  "metadata": {
    "colab": {
      "name": "Binary_Clasification.ipynb",
      "provenance": [],
      "authorship_tag": "ABX9TyMWRsnDPtzhHOti1kWm5Uz5",
      "include_colab_link": true
    },
    "kernelspec": {
      "name": "python3",
      "display_name": "Python 3"
    }
  },
  "cells": [
    {
      "cell_type": "markdown",
      "metadata": {
        "id": "view-in-github",
        "colab_type": "text"
      },
      "source": [
        "<a href=\"https://colab.research.google.com/github/ManuelAlejandrG/Python/blob/master/Binary_Clasification.ipynb\" target=\"_parent\"><img src=\"https://colab.research.google.com/assets/colab-badge.svg\" alt=\"Open In Colab\"/></a>"
      ]
    },
    {
      "cell_type": "code",
      "metadata": {
        "id": "9vpf5aCw7SKN",
        "colab_type": "code",
        "colab": {
          "base_uri": "https://localhost:8080/",
          "height": 53
        },
        "outputId": "763d79c7-e546-4673-bd1b-a69811cc9d35"
      },
      "source": [
        "import keras\n",
        "keras.__version__"
      ],
      "execution_count": 1,
      "outputs": [
        {
          "output_type": "stream",
          "text": [
            "Using TensorFlow backend.\n"
          ],
          "name": "stderr"
        },
        {
          "output_type": "execute_result",
          "data": {
            "text/plain": [
              "'2.3.1'"
            ]
          },
          "metadata": {
            "tags": []
          },
          "execution_count": 1
        }
      ]
    },
    {
      "cell_type": "markdown",
      "metadata": {
        "id": "E_EPN1Iv7mJW",
        "colab_type": "text"
      },
      "source": [
        "# Binary Clasification"
      ]
    },
    {
      "cell_type": "code",
      "metadata": {
        "id": "EYSVOn7f7sk5",
        "colab_type": "code",
        "colab": {
          "base_uri": "https://localhost:8080/",
          "height": 53
        },
        "outputId": "670a0909-4d28-4441-a287-7f7c950bf17e"
      },
      "source": [
        "from keras.datasets import imdb\n",
        "\n",
        "(train_data, train_labels), (test_data, test_labels) = imdb.load_data(num_words=10000)\n"
      ],
      "execution_count": 2,
      "outputs": [
        {
          "output_type": "stream",
          "text": [
            "Downloading data from https://s3.amazonaws.com/text-datasets/imdb.npz\n",
            "17465344/17464789 [==============================] - 1s 0us/step\n"
          ],
          "name": "stdout"
        }
      ]
    },
    {
      "cell_type": "code",
      "metadata": {
        "id": "nWC9Pm_E7zuB",
        "colab_type": "code",
        "colab": {
          "base_uri": "https://localhost:8080/",
          "height": 53
        },
        "outputId": "2f22832d-9d05-45e1-ec47-ea984da33b9c"
      },
      "source": [
        "\n",
        "# word_index is a dictionary mapping words to an integer index\n",
        "word_index = imdb.get_word_index()\n",
        "# We reverse it, mapping integer indices to words\n",
        "reverse_word_index = dict([(value, key) for (key, value) in word_index.items()])\n",
        "# We decode the review; note that our indices were offset by 3\n",
        "# because 0, 1 and 2 are reserved indices for \"padding\", \"start of sequence\", and \"unknown\".\n",
        "decoded_review = ' '.join([reverse_word_index.get(i - 3, '?') for i in train_data[0]])"
      ],
      "execution_count": 3,
      "outputs": [
        {
          "output_type": "stream",
          "text": [
            "Downloading data from https://s3.amazonaws.com/text-datasets/imdb_word_index.json\n",
            "1646592/1641221 [==============================] - 0s 0us/step\n"
          ],
          "name": "stdout"
        }
      ]
    },
    {
      "cell_type": "code",
      "metadata": {
        "id": "CMmeviak8Oeu",
        "colab_type": "code",
        "colab": {
          "base_uri": "https://localhost:8080/",
          "height": 55
        },
        "outputId": "9c44a4ae-5130-4e89-8796-e766a9f41b72"
      },
      "source": [
        "decoded_review"
      ],
      "execution_count": 4,
      "outputs": [
        {
          "output_type": "execute_result",
          "data": {
            "text/plain": [
              "\"? this film was just brilliant casting location scenery story direction everyone's really suited the part they played and you could just imagine being there robert ? is an amazing actor and now the same being director ? father came from the same scottish island as myself so i loved the fact there was a real connection with this film the witty remarks throughout the film were great it was just brilliant so much that i bought the film as soon as it was released for ? and would recommend it to everyone to watch and the fly fishing was amazing really cried at the end it was so sad and you know what they say if you cry at a film it must have been good and this definitely was also ? to the two little boy's that played the ? of norman and paul they were just brilliant children are often left out of the ? list i think because the stars that play them all grown up are such a big profile for the whole film but these children are amazing and should be praised for what they have done don't you think the whole story was so lovely because it was true and was someone's life after all that was shared with us all\""
            ]
          },
          "metadata": {
            "tags": []
          },
          "execution_count": 4
        }
      ]
    },
    {
      "cell_type": "code",
      "metadata": {
        "id": "cPTgtAxb8QLa",
        "colab_type": "code",
        "colab": {}
      },
      "source": [
        "import numpy as np\n",
        "\n",
        "def vectorize_sequences(sequences, dimension=10000):\n",
        "    # Create an all-zero matrix of shape (len(sequences), dimension)\n",
        "    results = np.zeros((len(sequences), dimension))\n",
        "    for i, sequence in enumerate(sequences):\n",
        "        results[i, sequence] = 1.  # set specific indices of results[i] to 1s\n",
        "    return results\n",
        "\n",
        "# Our vectorized training data\n",
        "x_train = vectorize_sequences(train_data)\n",
        "# Our vectorized test data\n",
        "x_test = vectorize_sequences(test_data)"
      ],
      "execution_count": 0,
      "outputs": []
    },
    {
      "cell_type": "code",
      "metadata": {
        "id": "pW74J7Vb8mOW",
        "colab_type": "code",
        "colab": {}
      },
      "source": [
        "# Our vectorized labels\n",
        "y_train = np.asarray(train_labels).astype('float32')\n",
        "y_test = np.asarray(test_labels).astype('float32')\n"
      ],
      "execution_count": 0,
      "outputs": []
    },
    {
      "cell_type": "markdown",
      "metadata": {
        "id": "hz9vrGSn_D2f",
        "colab_type": "text"
      },
      "source": [
        "# Our Model"
      ]
    },
    {
      "cell_type": "code",
      "metadata": {
        "id": "MoP4Axfv8w95",
        "colab_type": "code",
        "colab": {}
      },
      "source": [
        "from keras import models\n",
        "from keras import layers\n",
        "\n",
        "model = models.Sequential()\n",
        "model.add(layers.Dense(16, activation='relu', input_shape=(10000,)))\n",
        "model.add(layers.Dense(16, activation='relu'))\n",
        "model.add(layers.Dense(1, activation='sigmoid'))"
      ],
      "execution_count": 0,
      "outputs": []
    },
    {
      "cell_type": "code",
      "metadata": {
        "id": "9lG3S14v804T",
        "colab_type": "code",
        "colab": {}
      },
      "source": [
        "from keras import losses, metrics, optimizers\n",
        "\n",
        "model.compile(optimizer=optimizers.RMSprop(lr=0.001),\n",
        "              loss=losses.binary_crossentropy,\n",
        "              metrics=[metrics.binary_accuracy])"
      ],
      "execution_count": 0,
      "outputs": []
    },
    {
      "cell_type": "code",
      "metadata": {
        "id": "hRxb6eRF88Wu",
        "colab_type": "code",
        "colab": {}
      },
      "source": [
        "x_val = x_train[:10000]\n",
        "partial_x_train = x_train[10000:]\n",
        "\n",
        "y_val = y_train[:10000]\n",
        "partial_y_train = y_train[10000:]"
      ],
      "execution_count": 0,
      "outputs": []
    },
    {
      "cell_type": "code",
      "metadata": {
        "id": "61In7xaw9K0l",
        "colab_type": "code",
        "colab": {
          "base_uri": "https://localhost:8080/",
          "height": 775
        },
        "outputId": "17fb5ea0-4671-4e45-d41b-6cb3dd155924"
      },
      "source": [
        "history = model.fit(partial_x_train,\n",
        "                    partial_y_train,\n",
        "                    epochs=20,\n",
        "                    batch_size=512,\n",
        "                    validation_data=(x_val, y_val))"
      ],
      "execution_count": 23,
      "outputs": [
        {
          "output_type": "stream",
          "text": [
            "Train on 15000 samples, validate on 10000 samples\n",
            "Epoch 1/20\n",
            "15000/15000 [==============================] - 2s 118us/step - loss: 0.4995 - binary_accuracy: 0.7835 - val_loss: 0.3817 - val_binary_accuracy: 0.8628\n",
            "Epoch 2/20\n",
            "15000/15000 [==============================] - 2s 101us/step - loss: 0.2943 - binary_accuracy: 0.9077 - val_loss: 0.3047 - val_binary_accuracy: 0.8853\n",
            "Epoch 3/20\n",
            "15000/15000 [==============================] - 1s 99us/step - loss: 0.2197 - binary_accuracy: 0.9302 - val_loss: 0.2766 - val_binary_accuracy: 0.8905\n",
            "Epoch 4/20\n",
            "15000/15000 [==============================] - 2s 101us/step - loss: 0.1683 - binary_accuracy: 0.9460 - val_loss: 0.2751 - val_binary_accuracy: 0.8898\n",
            "Epoch 5/20\n",
            "15000/15000 [==============================] - 1s 99us/step - loss: 0.1393 - binary_accuracy: 0.9546 - val_loss: 0.2843 - val_binary_accuracy: 0.8870\n",
            "Epoch 6/20\n",
            "15000/15000 [==============================] - 2s 101us/step - loss: 0.1145 - binary_accuracy: 0.9659 - val_loss: 0.2954 - val_binary_accuracy: 0.8850\n",
            "Epoch 7/20\n",
            "15000/15000 [==============================] - 2s 101us/step - loss: 0.0943 - binary_accuracy: 0.9733 - val_loss: 0.3116 - val_binary_accuracy: 0.8838\n",
            "Epoch 8/20\n",
            "15000/15000 [==============================] - 2s 101us/step - loss: 0.0732 - binary_accuracy: 0.9817 - val_loss: 0.3400 - val_binary_accuracy: 0.8786\n",
            "Epoch 9/20\n",
            "15000/15000 [==============================] - 2s 103us/step - loss: 0.0630 - binary_accuracy: 0.9829 - val_loss: 0.3560 - val_binary_accuracy: 0.8783\n",
            "Epoch 10/20\n",
            "15000/15000 [==============================] - 2s 103us/step - loss: 0.0508 - binary_accuracy: 0.9874 - val_loss: 0.3965 - val_binary_accuracy: 0.8732\n",
            "Epoch 11/20\n",
            "15000/15000 [==============================] - 2s 101us/step - loss: 0.0402 - binary_accuracy: 0.9909 - val_loss: 0.4083 - val_binary_accuracy: 0.8754\n",
            "Epoch 12/20\n",
            "15000/15000 [==============================] - 2s 102us/step - loss: 0.0341 - binary_accuracy: 0.9925 - val_loss: 0.4387 - val_binary_accuracy: 0.8722\n",
            "Epoch 13/20\n",
            "15000/15000 [==============================] - 2s 104us/step - loss: 0.0257 - binary_accuracy: 0.9950 - val_loss: 0.4750 - val_binary_accuracy: 0.8717\n",
            "Epoch 14/20\n",
            "15000/15000 [==============================] - 2s 103us/step - loss: 0.0196 - binary_accuracy: 0.9971 - val_loss: 0.4953 - val_binary_accuracy: 0.8699\n",
            "Epoch 15/20\n",
            "15000/15000 [==============================] - 2s 102us/step - loss: 0.0167 - binary_accuracy: 0.9974 - val_loss: 0.5232 - val_binary_accuracy: 0.8700\n",
            "Epoch 16/20\n",
            "15000/15000 [==============================] - 2s 101us/step - loss: 0.0142 - binary_accuracy: 0.9979 - val_loss: 0.5563 - val_binary_accuracy: 0.8677\n",
            "Epoch 17/20\n",
            "15000/15000 [==============================] - 2s 103us/step - loss: 0.0080 - binary_accuracy: 0.9995 - val_loss: 0.5838 - val_binary_accuracy: 0.8677\n",
            "Epoch 18/20\n",
            "15000/15000 [==============================] - 2s 101us/step - loss: 0.0084 - binary_accuracy: 0.9988 - val_loss: 0.6189 - val_binary_accuracy: 0.8661\n",
            "Epoch 19/20\n",
            "15000/15000 [==============================] - 2s 101us/step - loss: 0.0074 - binary_accuracy: 0.9986 - val_loss: 0.6466 - val_binary_accuracy: 0.8667\n",
            "Epoch 20/20\n",
            "15000/15000 [==============================] - 2s 100us/step - loss: 0.0032 - binary_accuracy: 0.9999 - val_loss: 0.6841 - val_binary_accuracy: 0.8639\n"
          ],
          "name": "stdout"
        }
      ]
    },
    {
      "cell_type": "code",
      "metadata": {
        "id": "DPIGVbPl9jei",
        "colab_type": "code",
        "colab": {
          "base_uri": "https://localhost:8080/",
          "height": 35
        },
        "outputId": "e231471d-94bd-4111-9a6e-a15a0093d420"
      },
      "source": [
        "\n",
        "history_dict = history.history\n",
        "history_dict.keys()"
      ],
      "execution_count": 24,
      "outputs": [
        {
          "output_type": "execute_result",
          "data": {
            "text/plain": [
              "dict_keys(['val_loss', 'val_binary_accuracy', 'loss', 'binary_accuracy'])"
            ]
          },
          "metadata": {
            "tags": []
          },
          "execution_count": 24
        }
      ]
    },
    {
      "cell_type": "code",
      "metadata": {
        "id": "waCMxnVT9VSM",
        "colab_type": "code",
        "colab": {
          "base_uri": "https://localhost:8080/",
          "height": 295
        },
        "outputId": "ef9f3ef3-9929-4ac2-f444-60b3f2e89983"
      },
      "source": [
        "\n",
        "import matplotlib.pyplot as plt\n",
        "\n",
        "acc = history.history['binary_accuracy']\n",
        "val_acc = history.history['val_binary_accuracy']\n",
        "loss = history.history['loss']\n",
        "val_loss = history.history['val_loss']\n",
        "\n",
        "\n",
        "epochs = range(1, len(acc) + 1)\n",
        "\n",
        "# \"bo\" is for \"blue dot\"\n",
        "plt.plot(epochs, loss, 'bo', label='Training loss')\n",
        "# b is for \"solid blue line\"\n",
        "plt.plot(epochs, val_loss, 'b', label='Validation loss')\n",
        "plt.title('Training and validation loss')\n",
        "plt.xlabel('Epochs')\n",
        "plt.ylabel('Loss')\n",
        "plt.legend()\n",
        "\n",
        "plt.show()"
      ],
      "execution_count": 25,
      "outputs": [
        {
          "output_type": "display_data",
          "data": {
            "image/png": "[encoded data removed]",
            "text/plain": [
              "<Figure size 432x288 with 1 Axes>"
            ]
          },
          "metadata": {
            "tags": [],
            "needs_background": "light"
          }
        }
      ]
    },
    {
      "cell_type": "code",
      "metadata": {
        "id": "DNWrQJXE9NzJ",
        "colab_type": "code",
        "colab": {
          "base_uri": "https://localhost:8080/",
          "height": 295
        },
        "outputId": "dd661758-827a-4472-8e9d-201b8583610b"
      },
      "source": [
        "plt.clf()   # clear figure\n",
        "\n",
        "\n",
        "plt.plot(epochs, acc, 'bo', label='Training acc')\n",
        "plt.plot(epochs, val_acc, 'b', label='Validation acc')\n",
        "plt.title('Training and validation accuracy')\n",
        "plt.xlabel('Epochs')\n",
        "plt.ylabel('Loss')\n",
        "plt.legend()\n",
        "\n",
        "plt.show()"
      ],
      "execution_count": 26,
      "outputs": [
        {
          "output_type": "display_data",
          "data": {
            "image/png": "[encoded data removed]",
            "text/plain": [
              "<Figure size 432x288 with 1 Axes>"
            ]
          },
          "metadata": {
            "tags": [],
            "needs_background": "light"
          }
        }
      ]
    },
    {
      "cell_type": "markdown",
      "metadata": {
        "id": "QXSa9Umv_IOD",
        "colab_type": "text"
      },
      "source": [
        "We can observe only 4 epochs is enough to train model."
      ]
    },
    {
      "cell_type": "code",
      "metadata": {
        "id": "cCcgbwRS9cYJ",
        "colab_type": "code",
        "colab": {
          "base_uri": "https://localhost:8080/",
          "height": 179
        },
        "outputId": "f710601a-3d60-40ed-9c27-093a6d6bb814"
      },
      "source": [
        "# Retrain model\n",
        "model = models.Sequential()\n",
        "model.add(layers.Dense(16, activation='relu', input_shape=(10000,)))\n",
        "model.add(layers.Dense(16, activation='relu'))\n",
        "model.add(layers.Dense(1, activation='sigmoid'))\n",
        "\n",
        "model.compile(optimizer='rmsprop',\n",
        "              loss='binary_crossentropy',\n",
        "              metrics=['accuracy'])\n",
        "\n",
        "model.fit(x_train, y_train, epochs=4, batch_size=512)\n",
        "results = model.evaluate(x_test, y_test)"
      ],
      "execution_count": 27,
      "outputs": [
        {
          "output_type": "stream",
          "text": [
            "Epoch 1/4\n",
            "25000/25000 [==============================] - 2s 84us/step - loss: 0.4592 - accuracy: 0.8254\n",
            "Epoch 2/4\n",
            "25000/25000 [==============================] - 2s 75us/step - loss: 0.2673 - accuracy: 0.9072\n",
            "Epoch 3/4\n",
            "25000/25000 [==============================] - 2s 75us/step - loss: 0.2064 - accuracy: 0.9288\n",
            "Epoch 4/4\n",
            "25000/25000 [==============================] - 2s 73us/step - loss: 0.1725 - accuracy: 0.9390\n",
            "25000/25000 [==============================] - 2s 78us/step\n"
          ],
          "name": "stdout"
        }
      ]
    },
    {
      "cell_type": "code",
      "metadata": {
        "id": "CktOnNDY-6aq",
        "colab_type": "code",
        "colab": {
          "base_uri": "https://localhost:8080/",
          "height": 35
        },
        "outputId": "a99f365c-d429-4f83-ff49-6c8b08ca8b95"
      },
      "source": [
        "results"
      ],
      "execution_count": 28,
      "outputs": [
        {
          "output_type": "execute_result",
          "data": {
            "text/plain": [
              "[0.28827894666671755, 0.8855999708175659]"
            ]
          },
          "metadata": {
            "tags": []
          },
          "execution_count": 28
        }
      ]
    },
    {
      "cell_type": "code",
      "metadata": {
        "id": "1sEkXS5X--04",
        "colab_type": "code",
        "colab": {
          "base_uri": "https://localhost:8080/",
          "height": 143
        },
        "outputId": "e64319f3-0503-4134-a9db-ea1b1ef44484"
      },
      "source": [
        "model.predict(x_test)"
      ],
      "execution_count": 29,
      "outputs": [
        {
          "output_type": "execute_result",
          "data": {
            "text/plain": [
              "array([[0.24016741],\n",
              "       [0.99993324],\n",
              "       [0.7960652 ],\n",
              "       ...,\n",
              "       [0.15287906],\n",
              "       [0.06809703],\n",
              "       [0.5973544 ]], dtype=float32)"
            ]
          },
          "metadata": {
            "tags": []
          },
          "execution_count": 29
        }
      ]
    },
    {
      "cell_type": "code",
      "metadata": {
        "id": "fTgvxG6m_BHl",
        "colab_type": "code",
        "colab": {}
      },
      "source": [
        ""
      ],
      "execution_count": 0,
      "outputs": []
    }
  ]
}