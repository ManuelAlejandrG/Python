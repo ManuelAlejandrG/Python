{
  "nbformat": 4,
  "nbformat_minor": 0,
  "metadata": {
    "colab": {
      "name": "Data_Analyst_Challenge.ipynb",
      "provenance": [],
      "collapsed_sections": [],
      "toc_visible": true,
      "machine_shape": "hm",
      "mount_file_id": "1DfSyP-yrGToZsw3OH00QphdqqeP2a4LM",
      "authorship_tag": "ABX9TyNO9/iTb05//yIS2HWi1x9S",
      "include_colab_link": true
    },
    "kernelspec": {
      "name": "python3",
      "display_name": "Python 3"
    }
  },
  "cells": [
    {
      "cell_type": "markdown",
      "metadata": {
        "id": "view-in-github",
        "colab_type": "text"
      },
      "source": [
        "<a href=\"https://colab.research.google.com/github/ManuelAlejandrG/Python/blob/master/Data_Analyst_Challenge.ipynb\" target=\"_parent\"><img src=\"https://colab.research.google.com/assets/colab-badge.svg\" alt=\"Open In Colab\"/></a>"
      ]
    },
    {
      "cell_type": "markdown",
      "metadata": {
        "id": "PL71QPidiUrB",
        "colab_type": "text"
      },
      "source": [
        "# Space AG Data Analyst Challenge\n",
        "\n",
        "En la celda posterior mientras la instalación necesaria de sentinelhub"
      ]
    },
    {
      "cell_type": "code",
      "metadata": {
        "id": "hESASG6M7lNr",
        "colab_type": "code",
        "outputId": "1a62fb36-82eb-4d4b-e002-b8d493647c3f",
        "colab": {
          "base_uri": "https://localhost:8080/",
          "height": 487
        }
      },
      "source": [
        "# instalación sentinelhub\n",
        "!pip install sentinelhub"
      ],
      "execution_count": 1,
      "outputs": [
        {
          "output_type": "stream",
          "text": [
            "Requirement already satisfied: sentinelhub in /usr/local/lib/python3.6/dist-packages (3.0.2)\n",
            "Requirement already satisfied: numpy in /usr/local/lib/python3.6/dist-packages (from sentinelhub) (1.18.3)\n",
            "Requirement already satisfied: click in /usr/local/lib/python3.6/dist-packages (from sentinelhub) (7.1.1)\n",
            "Requirement already satisfied: boto3 in /usr/local/lib/python3.6/dist-packages (from sentinelhub) (1.12.46)\n",
            "Requirement already satisfied: pillow in /usr/local/lib/python3.6/dist-packages (from sentinelhub) (7.0.0)\n",
            "Requirement already satisfied: pyproj>=2.2.0 in /usr/local/lib/python3.6/dist-packages (from sentinelhub) (2.6.0)\n",
            "Requirement already satisfied: botocore in /usr/local/lib/python3.6/dist-packages (from sentinelhub) (1.15.46)\n",
            "Requirement already satisfied: shapely in /usr/local/lib/python3.6/dist-packages (from sentinelhub) (1.7.0)\n",
            "Requirement already satisfied: python-dateutil in /usr/local/lib/python3.6/dist-packages (from sentinelhub) (2.8.1)\n",
            "Requirement already satisfied: utm in /usr/local/lib/python3.6/dist-packages (from sentinelhub) (0.5.0)\n",
            "Requirement already satisfied: requests-oauthlib in /usr/local/lib/python3.6/dist-packages (from sentinelhub) (1.3.0)\n",
            "Requirement already satisfied: aenum>=2.1.4 in /usr/local/lib/python3.6/dist-packages (from sentinelhub) (2.2.3)\n",
            "Requirement already satisfied: requests>=2.5.0 in /usr/local/lib/python3.6/dist-packages (from sentinelhub) (2.21.0)\n",
            "Requirement already satisfied: oauthlib in /usr/local/lib/python3.6/dist-packages (from sentinelhub) (3.1.0)\n",
            "Requirement already satisfied: tifffile in /usr/local/lib/python3.6/dist-packages (from sentinelhub) (2020.2.16)\n",
            "Requirement already satisfied: wheel in /usr/local/lib/python3.6/dist-packages (from sentinelhub) (0.34.2)\n",
            "Requirement already satisfied: jmespath<1.0.0,>=0.7.1 in /usr/local/lib/python3.6/dist-packages (from boto3->sentinelhub) (0.9.5)\n",
            "Requirement already satisfied: s3transfer<0.4.0,>=0.3.0 in /usr/local/lib/python3.6/dist-packages (from boto3->sentinelhub) (0.3.3)\n",
            "Requirement already satisfied: docutils<0.16,>=0.10 in /usr/local/lib/python3.6/dist-packages (from botocore->sentinelhub) (0.15.2)\n",
            "Requirement already satisfied: urllib3<1.26,>=1.20; python_version != \"3.4\" in /usr/local/lib/python3.6/dist-packages (from botocore->sentinelhub) (1.24.3)\n",
            "Requirement already satisfied: six>=1.5 in /usr/local/lib/python3.6/dist-packages (from python-dateutil->sentinelhub) (1.12.0)\n",
            "Requirement already satisfied: idna<2.9,>=2.5 in /usr/local/lib/python3.6/dist-packages (from requests>=2.5.0->sentinelhub) (2.8)\n",
            "Requirement already satisfied: certifi>=2017.4.17 in /usr/local/lib/python3.6/dist-packages (from requests>=2.5.0->sentinelhub) (2020.4.5.1)\n",
            "Requirement already satisfied: chardet<3.1.0,>=3.0.2 in /usr/local/lib/python3.6/dist-packages (from requests>=2.5.0->sentinelhub) (3.0.4)\n",
            "Requirement already satisfied: imagecodecs>=2020.1.31 in /usr/local/lib/python3.6/dist-packages (from tifffile->sentinelhub) (2020.2.18)\n"
          ],
          "name": "stdout"
        }
      ]
    },
    {
      "cell_type": "markdown",
      "metadata": {
        "id": "cKZx2oGNijaZ",
        "colab_type": "text"
      },
      "source": [
        "Luego de instalar, se crea una cuenta la cual arroja un id para configurar la conexión."
      ]
    },
    {
      "cell_type": "code",
      "metadata": {
        "id": "hHlMOw_87n_m",
        "colab_type": "code",
        "colab": {}
      },
      "source": [
        "from sentinelhub import SHConfig\n",
        "\n",
        "# Configuración de la instancia \n",
        "INSTANCE_ID = '955e74c8-86b8-41c0-bce7-e4dc3a26a754'  \n",
        "if INSTANCE_ID:\n",
        "    config = SHConfig()\n",
        "    config.instance_id = INSTANCE_ID\n",
        "else:\n",
        "    config = None\n",
        "\n"
      ],
      "execution_count": 0,
      "outputs": []
    },
    {
      "cell_type": "markdown",
      "metadata": {
        "id": "JzH_ngp4irkI",
        "colab_type": "text"
      },
      "source": [
        "Importamos los paquetes necesarios para la extracción de las imágenes"
      ]
    },
    {
      "cell_type": "code",
      "metadata": {
        "id": "Py42UZ9y9QUU",
        "colab_type": "code",
        "colab": {}
      },
      "source": [
        "# Importaciones necesarias\n",
        "\n",
        "import json\n",
        "import datetime\n",
        "import numpy as np\n",
        "import pandas as pd\n",
        "import matplotlib.pyplot as plt\n",
        "from sentinelhub import WmsRequest, WcsRequest, MimeType, CRS, BBox\n",
        "%reload_ext autoreload\n",
        "%autoreload 2\n",
        "%matplotlib inline"
      ],
      "execution_count": 0,
      "outputs": []
    },
    {
      "cell_type": "markdown",
      "metadata": {
        "id": "fkkAU2nti2lj",
        "colab_type": "text"
      },
      "source": [
        "Hacemos conexión con google drive de donde obtendremos el documento excel para las fechas disponibles y el documento json con las ubicaciones de los lugares a extraer imagenes"
      ]
    },
    {
      "cell_type": "code",
      "metadata": {
        "id": "PFb7muil9e-d",
        "colab_type": "code",
        "outputId": "ab39ef46-2e60-4114-a146-c9788d1e84ea",
        "colab": {
          "base_uri": "https://localhost:8080/",
          "height": 55
        }
      },
      "source": [
        "from google.colab import drive\n",
        "\n",
        "# conexión con drive\n",
        "drive.mount('/content/drive/')"
      ],
      "execution_count": 4,
      "outputs": [
        {
          "output_type": "stream",
          "text": [
            "Drive already mounted at /content/drive/; to attempt to forcibly remount, call drive.mount(\"/content/drive/\", force_remount=True).\n"
          ],
          "name": "stdout"
        }
      ]
    },
    {
      "cell_type": "markdown",
      "metadata": {
        "id": "UbqnEdRhjDcQ",
        "colab_type": "text"
      },
      "source": [
        "Leemos el documento excel de google drive"
      ]
    },
    {
      "cell_type": "code",
      "metadata": {
        "id": "pLxzPk249095",
        "colab_type": "code",
        "colab": {}
      },
      "source": [
        "# lectura del documento excel\n",
        "data_available = pd.read_excel(\"/content/drive/My Drive/SentinelHubImage-available_dates.xlsx\")  "
      ],
      "execution_count": 0,
      "outputs": []
    },
    {
      "cell_type": "markdown",
      "metadata": {
        "id": "pOipIFMHjK8D",
        "colab_type": "text"
      },
      "source": [
        "Leemos el json y lo decodificamos para que python lo reconozca como un diccionario"
      ]
    },
    {
      "cell_type": "code",
      "metadata": {
        "id": "QqZGNWp0_EZD",
        "colab_type": "code",
        "colab": {}
      },
      "source": [
        "# lectura del documento json\n",
        "\n",
        "f = open(\"/content/drive/My Drive/farm_map.json\", 'r')\n",
        "content = f.read()\n",
        "\n",
        "json_decod = json.loads(content)"
      ],
      "execution_count": 0,
      "outputs": []
    },
    {
      "cell_type": "markdown",
      "metadata": {
        "id": "0_ckGyenjUXL",
        "colab_type": "text"
      },
      "source": [
        "Empleamos la lista llamada `aux` la cual tiene 2 iteraciones. \n",
        "La primera sobre los 33 regiones disponibles (o lote) que hay en el json y la siguiente sobre los 5 puntos posible en cada region ( o lote)"
      ]
    },
    {
      "cell_type": "code",
      "metadata": {
        "id": "41SI0cUE_PBU",
        "colab_type": "code",
        "colab": {}
      },
      "source": [
        "# auxiliar para extraer las coordenadas del json\n",
        "\n",
        "aux = []\n",
        "for j in range(33):\n",
        "    for i in range(5):\n",
        "        aux.append(json_decod[\"features\"][j][\"geometry\"][\"coordinates\"][0][i])"
      ],
      "execution_count": 0,
      "outputs": []
    },
    {
      "cell_type": "markdown",
      "metadata": {
        "id": "At9CuiY0jiPc",
        "colab_type": "text"
      },
      "source": [
        "Luego de obtener la lista `aux`, le asignamos los valores a una variable llamada `bordes` para que contenga las coordenadas de todos los lotes "
      ]
    },
    {
      "cell_type": "code",
      "metadata": {
        "id": "sT-U13RJ_RIP",
        "colab_type": "code",
        "colab": {}
      },
      "source": [
        "# bordes para la obtener las imagenes\n",
        "\n",
        "bordes = []\n",
        "for j in range(164):\n",
        "    bordes.append([aux[j],aux[j+1]])"
      ],
      "execution_count": 0,
      "outputs": []
    },
    {
      "cell_type": "markdown",
      "metadata": {
        "id": "7Fb-CqpBkB_T",
        "colab_type": "text"
      },
      "source": [
        "Creamos la función `grafica_nvdi` que sirve para tomar el valor promedio de NVDI.\n",
        "Esta función pide por argumento un valor `i` y una `fecha`.\n",
        "El valor `i`  irá iterando sobre la variable `bordes`creada anteriormente y la variable `fecha`le asignaremos las fechas disponibles extrayendolas de la variable `data_available`.\n",
        "\n",
        "En `imagen_bbox` obtenemos el rectángulo de la imagen y hacemos la petición de la imagen la cual se la asignamos a `wms_bands_request`, luego en `wms_bands_img` extraemos todos los datos de la imagen.\n",
        "\n",
        "La data extraida tiene 13 canales de los cuales solo nos iteresan el 8 correspondiente al NIR y el 4 correspondiente al Red.\n",
        "\n",
        "Luego hacemos la fórmula para calcular el NVDI la cual es $$ NVID =  \\frac{NIR-Red}{ NIR + Red} $$ despues tomamos la media de ese valor y lo retornamos, ahora en el caso que haya dado un error que retorne un valor nan\n"
      ]
    },
    {
      "cell_type": "code",
      "metadata": {
        "id": "esrJfX1X_UN8",
        "colab_type": "code",
        "colab": {}
      },
      "source": [
        "# funcion para obtener el nvdi promedio\n",
        "\n",
        "def grafica_nvdi2(i, fecha):\n",
        "  \"\"\"\n",
        "  funcion para obtener el nvdi promedio\n",
        "  i: entero, para iterar la lista bordes\n",
        "  fecha: date, fecha disponible para las imágenes\n",
        "  \"\"\"\n",
        "  # box para obtener la imagen \n",
        "  imagen_bbox = BBox(bbox=[bordes[i][0][0],\n",
        "                                bordes[i][0][1],\n",
        "                                bordes[i][1][0],\n",
        "                                bordes[i][1][1]], \n",
        "                          crs=CRS.WGS84) \n",
        "  try:\n",
        "    # request de la imagen\n",
        "    wms_bands_request = WmsRequest(\n",
        "        layer='BANDS-S2-L1C',\n",
        "        bbox=imagen_bbox,\n",
        "        time=fecha,\n",
        "        width=512,\n",
        "        height=856,\n",
        "        image_format=MimeType.TIFF_d32f,\n",
        "        config=config)\n",
        "    # data de la imagen\n",
        "    wms_bands_img = wms_bands_request.get_data()\n",
        "\n",
        "    # la data tiene un 13 canales, el canal 8 es el correspondiente al NIR y\n",
        "    # canal 4 es el correspondiente a Red\n",
        "    # calculamos al termino NVDI\n",
        "    nvdi = wms_bands_img[-1][:, :, 8]- wms_bands_img[-1][:, :, 4] / wms_bands_img[-1][:, :, 4] + wms_bands_img[-1][:, :, 8]\n",
        "        \n",
        "    # pedimos la media\n",
        "    mean = nvdi.mean()\n",
        "    \n",
        "  except:\n",
        "    # si tenemos un error que arroge un valor nan\n",
        "    mean = np.nan\n",
        "\n",
        "  \n",
        "  return mean"
      ],
      "execution_count": 0,
      "outputs": []
    },
    {
      "cell_type": "markdown",
      "metadata": {
        "id": "l0vbSE9hmRqC",
        "colab_type": "text"
      },
      "source": [
        "En este punto creamos un dataframes llamado `valores`, le asignamos una columna llamada `index` y luego en el ciclo creamos columnas con el nombre de la fecha y las filas serán las entradas correspondiente de iterar la funcion `grafica_nvdi2` por todos los indices correspondientes. \n",
        "\n",
        "De igual manera el 32 proviene de las regiones (o lotes) y el 89 de las fechas disponibles en el dataframe."
      ]
    },
    {
      "cell_type": "code",
      "metadata": {
        "id": "vb3aubEr_Xe7",
        "colab_type": "code",
        "outputId": "ce4bc74b-fa65-4626-f932-78f4f525c6a7",
        "colab": {
          "base_uri": "https://localhost:8080/",
          "height": 1000
        }
      },
      "source": [
        "valores = pd.DataFrame()\n",
        "valores[\"index\"] = range(32)\n",
        "for i in range(89):\n",
        "  print(i)\n",
        "  valores[data_available._date[i]] = valores[\"index\"].apply(grafica_nvdi2, fecha=data_available._date[i])\n"
      ],
      "execution_count": 10,
      "outputs": [
        {
          "output_type": "stream",
          "text": [
            "0\n",
            "1\n",
            "2\n",
            "3\n",
            "4\n",
            "5\n",
            "6\n",
            "7\n",
            "8\n",
            "9\n",
            "10\n",
            "11\n",
            "12\n",
            "13\n",
            "14\n",
            "15\n",
            "16\n",
            "17\n",
            "18\n",
            "19\n",
            "20\n",
            "21\n",
            "22\n",
            "23\n",
            "24\n",
            "25\n",
            "26\n",
            "27\n",
            "28\n",
            "29\n",
            "30\n",
            "31\n",
            "32\n",
            "33\n",
            "34\n",
            "35\n",
            "36\n",
            "37\n",
            "38\n",
            "39\n",
            "40\n",
            "41\n",
            "42\n",
            "43\n",
            "44\n",
            "45\n",
            "46\n",
            "47\n",
            "48\n",
            "49\n",
            "50\n",
            "51\n",
            "52\n",
            "53\n",
            "54\n",
            "55\n",
            "56\n",
            "57\n",
            "58\n",
            "59\n",
            "60\n",
            "61\n",
            "62\n",
            "63\n",
            "64\n",
            "65\n",
            "66\n",
            "67\n",
            "68\n",
            "69\n",
            "70\n",
            "71\n",
            "72\n",
            "73\n",
            "74\n",
            "75\n",
            "76\n",
            "77\n",
            "78\n",
            "79\n",
            "80\n",
            "81\n",
            "82\n",
            "83\n",
            "84\n",
            "85\n",
            "86\n",
            "87\n",
            "88\n",
            "0\n",
            "1\n",
            "2\n",
            "3\n",
            "4\n",
            "5\n",
            "6\n",
            "7\n",
            "8\n",
            "9\n",
            "10\n",
            "11\n",
            "12\n",
            "13\n",
            "14\n",
            "15\n",
            "16\n",
            "17\n",
            "18\n",
            "19\n",
            "20\n",
            "21\n",
            "22\n",
            "23\n",
            "24\n",
            "25\n",
            "26\n",
            "27\n",
            "28\n",
            "29\n",
            "30\n",
            "31\n",
            "32\n",
            "33\n",
            "34\n",
            "35\n",
            "36\n",
            "37\n",
            "38\n",
            "39\n",
            "40\n",
            "41\n",
            "42\n",
            "43\n",
            "44\n",
            "45\n",
            "46\n",
            "47\n",
            "48\n",
            "49\n",
            "50\n",
            "51\n",
            "52\n",
            "53\n",
            "54\n",
            "55\n",
            "56\n",
            "57\n",
            "58\n",
            "59\n",
            "60\n",
            "61\n",
            "62\n",
            "63\n",
            "64\n",
            "65\n",
            "66\n",
            "67\n",
            "68\n",
            "69\n",
            "70\n",
            "71\n",
            "72\n",
            "73\n",
            "74\n",
            "75\n",
            "76\n",
            "77\n",
            "78\n",
            "79\n",
            "80\n",
            "81\n",
            "82\n",
            "83\n",
            "84\n",
            "85\n",
            "86\n",
            "87\n",
            "88\n"
          ],
          "name": "stdout"
        }
      ]
    },
    {
      "cell_type": "markdown",
      "metadata": {
        "id": "QiJuvoxV6hDG",
        "colab_type": "text"
      },
      "source": [
        "Cambiamos filas por columnas y definimos un nuevo dataset para hacer estudio"
      ]
    },
    {
      "cell_type": "code",
      "metadata": {
        "id": "fZ-931A4EVsw",
        "colab_type": "code",
        "colab": {
          "base_uri": "https://localhost:8080/",
          "height": 547
        },
        "outputId": "d23f2fcc-c743-485b-d293-35934786883e"
      },
      "source": [
        "h = pd.DataFrame(valores.values.T)\n",
        "h.index = valores.columns\n",
        "h.head()\n"
      ],
      "execution_count": 11,
      "outputs": [
        {
          "output_type": "execute_result",
          "data": {
            "text/html": [
              "<div>\n",
              "<style scoped>\n",
              "    .dataframe tbody tr th:only-of-type {\n",
              "        vertical-align: middle;\n",
              "    }\n",
              "\n",
              "    .dataframe tbody tr th {\n",
              "        vertical-align: top;\n",
              "    }\n",
              "\n",
              "    .dataframe thead th {\n",
              "        text-align: right;\n",
              "    }\n",
              "</style>\n",
              "<table border=\"1\" class=\"dataframe\">\n",
              "  <thead>\n",
              "    <tr style=\"text-align: right;\">\n",
              "      <th></th>\n",
              "      <th>0</th>\n",
              "      <th>1</th>\n",
              "      <th>2</th>\n",
              "      <th>3</th>\n",
              "      <th>4</th>\n",
              "      <th>5</th>\n",
              "      <th>6</th>\n",
              "      <th>7</th>\n",
              "      <th>8</th>\n",
              "      <th>9</th>\n",
              "      <th>10</th>\n",
              "      <th>11</th>\n",
              "      <th>12</th>\n",
              "      <th>13</th>\n",
              "      <th>14</th>\n",
              "      <th>15</th>\n",
              "      <th>16</th>\n",
              "      <th>17</th>\n",
              "      <th>18</th>\n",
              "      <th>19</th>\n",
              "      <th>20</th>\n",
              "      <th>21</th>\n",
              "      <th>22</th>\n",
              "      <th>23</th>\n",
              "      <th>24</th>\n",
              "      <th>25</th>\n",
              "      <th>26</th>\n",
              "      <th>27</th>\n",
              "      <th>28</th>\n",
              "      <th>29</th>\n",
              "      <th>30</th>\n",
              "      <th>31</th>\n",
              "    </tr>\n",
              "  </thead>\n",
              "  <tbody>\n",
              "    <tr>\n",
              "      <th>index</th>\n",
              "      <td>0.000000</td>\n",
              "      <td>1.000000</td>\n",
              "      <td>2.000000</td>\n",
              "      <td>3.000000</td>\n",
              "      <td>4.000000</td>\n",
              "      <td>5.000000</td>\n",
              "      <td>6.000000</td>\n",
              "      <td>7.000000</td>\n",
              "      <td>8.000000</td>\n",
              "      <td>9.000000</td>\n",
              "      <td>10.000000</td>\n",
              "      <td>11.000000</td>\n",
              "      <td>12.000000</td>\n",
              "      <td>13.000000</td>\n",
              "      <td>14.000000</td>\n",
              "      <td>15.000000</td>\n",
              "      <td>16.000000</td>\n",
              "      <td>17.000000</td>\n",
              "      <td>18.000000</td>\n",
              "      <td>19.0</td>\n",
              "      <td>20.000000</td>\n",
              "      <td>21.000000</td>\n",
              "      <td>22.000000</td>\n",
              "      <td>23.000000</td>\n",
              "      <td>24.000000</td>\n",
              "      <td>25.000000</td>\n",
              "      <td>26.000000</td>\n",
              "      <td>27.000000</td>\n",
              "      <td>28.000000</td>\n",
              "      <td>29.000000</td>\n",
              "      <td>30.000000</td>\n",
              "      <td>31.000000</td>\n",
              "    </tr>\n",
              "    <tr>\n",
              "      <th>2020-04-20</th>\n",
              "      <td>-0.301580</td>\n",
              "      <td>-0.311074</td>\n",
              "      <td>-0.306710</td>\n",
              "      <td>-0.369529</td>\n",
              "      <td>-0.301580</td>\n",
              "      <td>-0.304153</td>\n",
              "      <td>-0.401819</td>\n",
              "      <td>-0.320132</td>\n",
              "      <td>-0.311074</td>\n",
              "      <td>-0.315242</td>\n",
              "      <td>-0.297560</td>\n",
              "      <td>-0.317424</td>\n",
              "      <td>-0.301580</td>\n",
              "      <td>-0.383529</td>\n",
              "      <td>-0.297560</td>\n",
              "      <td>-0.309464</td>\n",
              "      <td>-0.383334</td>\n",
              "      <td>-0.304153</td>\n",
              "      <td>-0.317424</td>\n",
              "      <td>NaN</td>\n",
              "      <td>-0.297560</td>\n",
              "      <td>-0.370985</td>\n",
              "      <td>-0.311993</td>\n",
              "      <td>-0.310105</td>\n",
              "      <td>-0.309464</td>\n",
              "      <td>-0.309464</td>\n",
              "      <td>-0.310105</td>\n",
              "      <td>-0.305912</td>\n",
              "      <td>-0.400908</td>\n",
              "      <td>-0.325125</td>\n",
              "      <td>-0.315086</td>\n",
              "      <td>-0.333911</td>\n",
              "    </tr>\n",
              "    <tr>\n",
              "      <th>2020-04-15</th>\n",
              "      <td>-0.281805</td>\n",
              "      <td>-0.296356</td>\n",
              "      <td>-0.289081</td>\n",
              "      <td>-0.353830</td>\n",
              "      <td>-0.281805</td>\n",
              "      <td>-0.287686</td>\n",
              "      <td>-0.395538</td>\n",
              "      <td>-0.303002</td>\n",
              "      <td>-0.296356</td>\n",
              "      <td>-0.293417</td>\n",
              "      <td>-0.278736</td>\n",
              "      <td>-0.293436</td>\n",
              "      <td>-0.281805</td>\n",
              "      <td>-0.367038</td>\n",
              "      <td>-0.278736</td>\n",
              "      <td>-0.289217</td>\n",
              "      <td>-0.374959</td>\n",
              "      <td>-0.287686</td>\n",
              "      <td>-0.293436</td>\n",
              "      <td>NaN</td>\n",
              "      <td>-0.278736</td>\n",
              "      <td>-0.351099</td>\n",
              "      <td>-0.291187</td>\n",
              "      <td>-0.289212</td>\n",
              "      <td>-0.289217</td>\n",
              "      <td>-0.289217</td>\n",
              "      <td>-0.289212</td>\n",
              "      <td>-0.288095</td>\n",
              "      <td>-0.389091</td>\n",
              "      <td>-0.305769</td>\n",
              "      <td>-0.291950</td>\n",
              "      <td>-0.309935</td>\n",
              "    </tr>\n",
              "    <tr>\n",
              "      <th>2020-03-11</th>\n",
              "      <td>-0.262843</td>\n",
              "      <td>-0.278999</td>\n",
              "      <td>-0.290659</td>\n",
              "      <td>-0.353606</td>\n",
              "      <td>-0.262843</td>\n",
              "      <td>-0.262605</td>\n",
              "      <td>-0.347015</td>\n",
              "      <td>-0.296505</td>\n",
              "      <td>-0.278999</td>\n",
              "      <td>-0.267750</td>\n",
              "      <td>-0.252428</td>\n",
              "      <td>-0.264308</td>\n",
              "      <td>-0.262843</td>\n",
              "      <td>-0.356121</td>\n",
              "      <td>-0.252428</td>\n",
              "      <td>-0.260733</td>\n",
              "      <td>-0.356335</td>\n",
              "      <td>-0.262605</td>\n",
              "      <td>-0.264308</td>\n",
              "      <td>NaN</td>\n",
              "      <td>-0.252428</td>\n",
              "      <td>-0.343231</td>\n",
              "      <td>-0.256971</td>\n",
              "      <td>-0.259925</td>\n",
              "      <td>-0.260733</td>\n",
              "      <td>-0.260733</td>\n",
              "      <td>-0.259925</td>\n",
              "      <td>-0.250872</td>\n",
              "      <td>-0.357054</td>\n",
              "      <td>-0.273667</td>\n",
              "      <td>-0.256614</td>\n",
              "      <td>-0.272693</td>\n",
              "    </tr>\n",
              "    <tr>\n",
              "      <th>2020-02-15</th>\n",
              "      <td>-0.263919</td>\n",
              "      <td>-0.279291</td>\n",
              "      <td>-0.288605</td>\n",
              "      <td>-0.354231</td>\n",
              "      <td>-0.263919</td>\n",
              "      <td>-0.266976</td>\n",
              "      <td>-0.355228</td>\n",
              "      <td>-0.296257</td>\n",
              "      <td>-0.279291</td>\n",
              "      <td>-0.278301</td>\n",
              "      <td>-0.259395</td>\n",
              "      <td>-0.272671</td>\n",
              "      <td>-0.263919</td>\n",
              "      <td>-0.366133</td>\n",
              "      <td>-0.259395</td>\n",
              "      <td>-0.262834</td>\n",
              "      <td>-0.382508</td>\n",
              "      <td>-0.266976</td>\n",
              "      <td>-0.272671</td>\n",
              "      <td>NaN</td>\n",
              "      <td>-0.259395</td>\n",
              "      <td>-0.349722</td>\n",
              "      <td>-0.260522</td>\n",
              "      <td>-0.265968</td>\n",
              "      <td>-0.262834</td>\n",
              "      <td>-0.262834</td>\n",
              "      <td>-0.265968</td>\n",
              "      <td>-0.253217</td>\n",
              "      <td>-0.358272</td>\n",
              "      <td>-0.275620</td>\n",
              "      <td>-0.261620</td>\n",
              "      <td>-0.267013</td>\n",
              "    </tr>\n",
              "  </tbody>\n",
              "</table>\n",
              "</div>"
            ],
            "text/plain": [
              "                  0         1         2   ...         29         30         31\n",
              "index       0.000000  1.000000  2.000000  ...  29.000000  30.000000  31.000000\n",
              "2020-04-20 -0.301580 -0.311074 -0.306710  ...  -0.325125  -0.315086  -0.333911\n",
              "2020-04-15 -0.281805 -0.296356 -0.289081  ...  -0.305769  -0.291950  -0.309935\n",
              "2020-03-11 -0.262843 -0.278999 -0.290659  ...  -0.273667  -0.256614  -0.272693\n",
              "2020-02-15 -0.263919 -0.279291 -0.288605  ...  -0.275620  -0.261620  -0.267013\n",
              "\n",
              "[5 rows x 32 columns]"
            ]
          },
          "metadata": {
            "tags": []
          },
          "execution_count": 11
        },
        {
          "output_type": "execute_result",
          "data": {
            "text/html": [
              "<div>\n",
              "<style scoped>\n",
              "    .dataframe tbody tr th:only-of-type {\n",
              "        vertical-align: middle;\n",
              "    }\n",
              "\n",
              "    .dataframe tbody tr th {\n",
              "        vertical-align: top;\n",
              "    }\n",
              "\n",
              "    .dataframe thead th {\n",
              "        text-align: right;\n",
              "    }\n",
              "</style>\n",
              "<table border=\"1\" class=\"dataframe\">\n",
              "  <thead>\n",
              "    <tr style=\"text-align: right;\">\n",
              "      <th></th>\n",
              "      <th>0</th>\n",
              "      <th>1</th>\n",
              "      <th>2</th>\n",
              "      <th>3</th>\n",
              "      <th>4</th>\n",
              "      <th>5</th>\n",
              "      <th>6</th>\n",
              "      <th>7</th>\n",
              "      <th>8</th>\n",
              "      <th>9</th>\n",
              "      <th>10</th>\n",
              "      <th>11</th>\n",
              "      <th>12</th>\n",
              "      <th>13</th>\n",
              "      <th>14</th>\n",
              "      <th>15</th>\n",
              "      <th>16</th>\n",
              "      <th>17</th>\n",
              "      <th>18</th>\n",
              "      <th>19</th>\n",
              "      <th>20</th>\n",
              "      <th>21</th>\n",
              "      <th>22</th>\n",
              "      <th>23</th>\n",
              "      <th>24</th>\n",
              "      <th>25</th>\n",
              "      <th>26</th>\n",
              "      <th>27</th>\n",
              "      <th>28</th>\n",
              "      <th>29</th>\n",
              "      <th>30</th>\n",
              "      <th>31</th>\n",
              "    </tr>\n",
              "  </thead>\n",
              "  <tbody>\n",
              "    <tr>\n",
              "      <th>index</th>\n",
              "      <td>0.000000</td>\n",
              "      <td>1.000000</td>\n",
              "      <td>2.000000</td>\n",
              "      <td>3.000000</td>\n",
              "      <td>4.000000</td>\n",
              "      <td>5.000000</td>\n",
              "      <td>6.000000</td>\n",
              "      <td>7.000000</td>\n",
              "      <td>8.000000</td>\n",
              "      <td>9.000000</td>\n",
              "      <td>10.000000</td>\n",
              "      <td>11.000000</td>\n",
              "      <td>12.000000</td>\n",
              "      <td>13.000000</td>\n",
              "      <td>14.000000</td>\n",
              "      <td>15.000000</td>\n",
              "      <td>16.000000</td>\n",
              "      <td>17.000000</td>\n",
              "      <td>18.000000</td>\n",
              "      <td>19.0</td>\n",
              "      <td>20.000000</td>\n",
              "      <td>21.000000</td>\n",
              "      <td>22.000000</td>\n",
              "      <td>23.000000</td>\n",
              "      <td>24.000000</td>\n",
              "      <td>25.000000</td>\n",
              "      <td>26.000000</td>\n",
              "      <td>27.000000</td>\n",
              "      <td>28.000000</td>\n",
              "      <td>29.000000</td>\n",
              "      <td>30.000000</td>\n",
              "      <td>31.000000</td>\n",
              "    </tr>\n",
              "    <tr>\n",
              "      <th>2020-04-20</th>\n",
              "      <td>-0.301580</td>\n",
              "      <td>-0.311074</td>\n",
              "      <td>-0.306710</td>\n",
              "      <td>-0.369529</td>\n",
              "      <td>-0.301580</td>\n",
              "      <td>-0.304153</td>\n",
              "      <td>-0.401819</td>\n",
              "      <td>-0.320132</td>\n",
              "      <td>-0.311074</td>\n",
              "      <td>-0.315242</td>\n",
              "      <td>-0.297560</td>\n",
              "      <td>-0.317424</td>\n",
              "      <td>-0.301580</td>\n",
              "      <td>-0.383529</td>\n",
              "      <td>-0.297560</td>\n",
              "      <td>-0.309464</td>\n",
              "      <td>-0.383334</td>\n",
              "      <td>-0.304153</td>\n",
              "      <td>-0.317424</td>\n",
              "      <td>NaN</td>\n",
              "      <td>-0.297560</td>\n",
              "      <td>-0.370985</td>\n",
              "      <td>-0.311993</td>\n",
              "      <td>-0.310105</td>\n",
              "      <td>-0.309464</td>\n",
              "      <td>-0.309464</td>\n",
              "      <td>-0.310105</td>\n",
              "      <td>-0.305912</td>\n",
              "      <td>-0.400908</td>\n",
              "      <td>-0.325125</td>\n",
              "      <td>-0.315086</td>\n",
              "      <td>-0.333911</td>\n",
              "    </tr>\n",
              "    <tr>\n",
              "      <th>2020-04-15</th>\n",
              "      <td>-0.281805</td>\n",
              "      <td>-0.296356</td>\n",
              "      <td>-0.289081</td>\n",
              "      <td>-0.353830</td>\n",
              "      <td>-0.281805</td>\n",
              "      <td>-0.287686</td>\n",
              "      <td>-0.395538</td>\n",
              "      <td>-0.303002</td>\n",
              "      <td>-0.296356</td>\n",
              "      <td>-0.293417</td>\n",
              "      <td>-0.278736</td>\n",
              "      <td>-0.293436</td>\n",
              "      <td>-0.281805</td>\n",
              "      <td>-0.367038</td>\n",
              "      <td>-0.278736</td>\n",
              "      <td>-0.289217</td>\n",
              "      <td>-0.374959</td>\n",
              "      <td>-0.287686</td>\n",
              "      <td>-0.293436</td>\n",
              "      <td>NaN</td>\n",
              "      <td>-0.278736</td>\n",
              "      <td>-0.351099</td>\n",
              "      <td>-0.291187</td>\n",
              "      <td>-0.289212</td>\n",
              "      <td>-0.289217</td>\n",
              "      <td>-0.289217</td>\n",
              "      <td>-0.289212</td>\n",
              "      <td>-0.288095</td>\n",
              "      <td>-0.389091</td>\n",
              "      <td>-0.305769</td>\n",
              "      <td>-0.291950</td>\n",
              "      <td>-0.309935</td>\n",
              "    </tr>\n",
              "    <tr>\n",
              "      <th>2020-03-11</th>\n",
              "      <td>-0.262843</td>\n",
              "      <td>-0.278999</td>\n",
              "      <td>-0.290659</td>\n",
              "      <td>-0.353606</td>\n",
              "      <td>-0.262843</td>\n",
              "      <td>-0.262605</td>\n",
              "      <td>-0.347015</td>\n",
              "      <td>-0.296505</td>\n",
              "      <td>-0.278999</td>\n",
              "      <td>-0.267750</td>\n",
              "      <td>-0.252428</td>\n",
              "      <td>-0.264308</td>\n",
              "      <td>-0.262843</td>\n",
              "      <td>-0.356121</td>\n",
              "      <td>-0.252428</td>\n",
              "      <td>-0.260733</td>\n",
              "      <td>-0.356335</td>\n",
              "      <td>-0.262605</td>\n",
              "      <td>-0.264308</td>\n",
              "      <td>NaN</td>\n",
              "      <td>-0.252428</td>\n",
              "      <td>-0.343231</td>\n",
              "      <td>-0.256971</td>\n",
              "      <td>-0.259925</td>\n",
              "      <td>-0.260733</td>\n",
              "      <td>-0.260733</td>\n",
              "      <td>-0.259925</td>\n",
              "      <td>-0.250872</td>\n",
              "      <td>-0.357054</td>\n",
              "      <td>-0.273667</td>\n",
              "      <td>-0.256614</td>\n",
              "      <td>-0.272693</td>\n",
              "    </tr>\n",
              "    <tr>\n",
              "      <th>2020-02-15</th>\n",
              "      <td>-0.263919</td>\n",
              "      <td>-0.279291</td>\n",
              "      <td>-0.288605</td>\n",
              "      <td>-0.354231</td>\n",
              "      <td>-0.263919</td>\n",
              "      <td>-0.266976</td>\n",
              "      <td>-0.355228</td>\n",
              "      <td>-0.296257</td>\n",
              "      <td>-0.279291</td>\n",
              "      <td>-0.278301</td>\n",
              "      <td>-0.259395</td>\n",
              "      <td>-0.272671</td>\n",
              "      <td>-0.263919</td>\n",
              "      <td>-0.366133</td>\n",
              "      <td>-0.259395</td>\n",
              "      <td>-0.262834</td>\n",
              "      <td>-0.382508</td>\n",
              "      <td>-0.266976</td>\n",
              "      <td>-0.272671</td>\n",
              "      <td>NaN</td>\n",
              "      <td>-0.259395</td>\n",
              "      <td>-0.349722</td>\n",
              "      <td>-0.260522</td>\n",
              "      <td>-0.265968</td>\n",
              "      <td>-0.262834</td>\n",
              "      <td>-0.262834</td>\n",
              "      <td>-0.265968</td>\n",
              "      <td>-0.253217</td>\n",
              "      <td>-0.358272</td>\n",
              "      <td>-0.275620</td>\n",
              "      <td>-0.261620</td>\n",
              "      <td>-0.267013</td>\n",
              "    </tr>\n",
              "  </tbody>\n",
              "</table>\n",
              "</div>"
            ],
            "text/plain": [
              "                  0         1         2   ...         29         30         31\n",
              "index       0.000000  1.000000  2.000000  ...  29.000000  30.000000  31.000000\n",
              "2020-04-20 -0.301580 -0.311074 -0.306710  ...  -0.325125  -0.315086  -0.333911\n",
              "2020-04-15 -0.281805 -0.296356 -0.289081  ...  -0.305769  -0.291950  -0.309935\n",
              "2020-03-11 -0.262843 -0.278999 -0.290659  ...  -0.273667  -0.256614  -0.272693\n",
              "2020-02-15 -0.263919 -0.279291 -0.288605  ...  -0.275620  -0.261620  -0.267013\n",
              "\n",
              "[5 rows x 32 columns]"
            ]
          },
          "metadata": {
            "tags": []
          },
          "execution_count": 11
        }
      ]
    },
    {
      "cell_type": "markdown",
      "metadata": {
        "id": "2kqtKtmM6wvn",
        "colab_type": "text"
      },
      "source": [
        "Tomamos una fila en aleatorio del dataset h para hacer un estudio general de su serie temporal"
      ]
    },
    {
      "cell_type": "code",
      "metadata": {
        "id": "DVHvo1YiE2jj",
        "colab_type": "code",
        "colab": {
          "base_uri": "https://localhost:8080/",
          "height": 35
        },
        "outputId": "f5a7fdac-2058-477d-b880-a10bce65b009"
      },
      "source": [
        "import random\n",
        "random.seed(10)\n",
        "i = random.randint(0,31)\n",
        "print(i)\n",
        "L = pd.DataFrame(h[i][1:])"
      ],
      "execution_count": 19,
      "outputs": [
        {
          "output_type": "stream",
          "text": [
            "2\n"
          ],
          "name": "stdout"
        }
      ]
    },
    {
      "cell_type": "markdown",
      "metadata": {
        "id": "qzFOXVB772DG",
        "colab_type": "text"
      },
      "source": [
        "Calculamos el promedio de el promedio movil de los 5 valores anteriores y se lo a la columna `5-rolling-mean`. Ademas graficamos L para ver la serie temporal general y la media movil "
      ]
    },
    {
      "cell_type": "code",
      "metadata": {
        "id": "OI3euP2kGOY_",
        "colab_type": "code",
        "colab": {
          "base_uri": "https://localhost:8080/",
          "height": 283
        },
        "outputId": "8adb44d5-55a7-49ac-ac8f-fb47b6b9b01e"
      },
      "source": [
        "L[\"5-rolling-mean\"] = L[i].rolling(5).mean()\n",
        "L.plot()"
      ],
      "execution_count": 20,
      "outputs": [
        {
          "output_type": "execute_result",
          "data": {
            "text/plain": [
              "<matplotlib.axes._subplots.AxesSubplot at 0x7fd4502b2940>"
            ]
          },
          "metadata": {
            "tags": []
          },
          "execution_count": 20
        },
        {
          "output_type": "display_data",
          "data": {
            "image/png": "[encoded data removed]",
            "text/plain": [
              "<Figure size 432x288 with 1 Axes>"
            ]
          },
          "metadata": {
            "tags": [],
            "needs_background": "light"
          }
        }
      ]
    },
    {
      "cell_type": "markdown",
      "metadata": {
        "id": "G86Q6AMZKN3U",
        "colab_type": "text"
      },
      "source": [
        "Ahora calculamos la varianza diaria y se lo asignamos a la columna `varianza-diaria` y graficamos esta serie\n"
      ]
    },
    {
      "cell_type": "code",
      "metadata": {
        "id": "tl17JFHW9GA3",
        "colab_type": "code",
        "colab": {
          "base_uri": "https://localhost:8080/",
          "height": 287
        },
        "outputId": "970cddf5-cca6-4f1b-a7a1-449f0b456cfd"
      },
      "source": [
        "L[\"varianza-diaria\"] = L[i].pct_change()\n",
        "L[\"varianza-diaria\"].plot()"
      ],
      "execution_count": 21,
      "outputs": [
        {
          "output_type": "execute_result",
          "data": {
            "text/plain": [
              "<matplotlib.axes._subplots.AxesSubplot at 0x7fd44f7f8a90>"
            ]
          },
          "metadata": {
            "tags": []
          },
          "execution_count": 21
        },
        {
          "output_type": "display_data",
          "data": {
            "image/png": "[encoded data removed]",
            "text/plain": [
              "<Figure size 432x288 with 1 Axes>"
            ]
          },
          "metadata": {
            "tags": [],
            "needs_background": "light"
          }
        }
      ]
    },
    {
      "cell_type": "markdown",
      "metadata": {
        "id": "J1mDx26Rdoz0",
        "colab_type": "text"
      },
      "source": [
        "Ahora ejecutemos el modelo ARIMA ya que estamos en presencia de una serie de tiempo y así podamos predecir su comportamiento"
      ]
    },
    {
      "cell_type": "code",
      "metadata": {
        "id": "tR-w6F3Jd4gY",
        "colab_type": "code",
        "colab": {
          "base_uri": "https://localhost:8080/",
          "height": 844
        },
        "outputId": "29c9841b-3c11-41b4-ba6e-41666248b207"
      },
      "source": [
        "from statsmodels.tsa.arima_model import ARIMA\n",
        "import matplotlib.pyplot as plt\n",
        "from sklearn.metrics import mean_squared_error\n",
        "\n",
        "\n",
        "X = L[i].values\n",
        "size = int(len(X) * 0.66)\n",
        "train, test = X[0:size], X[size:len(X)]\n",
        "history = [x for x in train]\n",
        "predictions = list()\n",
        "for t in range(len(test)):\n",
        "\tmodel = ARIMA(history, order=(5,1,0))\n",
        "\tmodel_fit = model.fit(disp=0)\n",
        "\toutput = model_fit.forecast()\n",
        "\tyhat = output[0]\n",
        "\tpredictions.append(yhat)\n",
        "\tobs = test[t]\n",
        "\thistory.append(obs)\n",
        "\tprint('predicciones=%f, observación=%f' % (yhat, obs))\n",
        "error = mean_squared_error(test, predictions)\n",
        "print('Test MSE: %.3f' % error)\n",
        "# plot\n",
        "plt.plot(test, label=\"valores\")\n",
        "plt.plot(predictions, color='red', label=\"predicciones\")\n",
        "plt.legend()\n",
        "plt.show()"
      ],
      "execution_count": 89,
      "outputs": [
        {
          "output_type": "stream",
          "text": [
            "predicciones=-0.438327, observación=-0.450379\n",
            "predicciones=-0.454980, observación=-0.434543\n",
            "predicciones=-0.433321, observación=-0.436362\n",
            "predicciones=-0.438244, observación=-0.405382\n",
            "predicciones=-0.404451, observación=-0.407549\n",
            "predicciones=-0.399864, observación=-0.398994\n",
            "predicciones=-0.401438, observación=-0.398102\n",
            "predicciones=-0.393122, observación=-0.381570\n",
            "predicciones=-0.385309, observación=-0.367349\n",
            "predicciones=-0.362015, observación=-0.373294\n",
            "predicciones=-0.372531, observación=-0.341451\n",
            "predicciones=-0.337274, observación=-0.348156\n",
            "predicciones=-0.342956, observación=-0.349058\n",
            "predicciones=-0.351382, observación=-0.348091\n",
            "predicciones=-0.344046, observación=-0.367723\n",
            "predicciones=-0.373060, observación=-0.350906\n",
            "predicciones=-0.353923, observación=-0.340569\n",
            "predicciones=-0.338230, observación=-0.355050\n",
            "predicciones=-0.354813, observación=-0.408988\n",
            "predicciones=-0.411880, observación=-0.415578\n",
            "predicciones=-0.424501, observación=-0.442244\n",
            "predicciones=-0.451151, observación=-0.453158\n",
            "predicciones=-0.465266, observación=-0.464951\n",
            "predicciones=-0.466115, observación=-0.326461\n",
            "predicciones=-0.315815, observación=-0.332429\n",
            "predicciones=-0.306949, observación=-0.358412\n",
            "predicciones=-0.360916, observación=-0.361437\n",
            "predicciones=-0.334552, observación=-0.327980\n",
            "predicciones=-0.368874, observación=-0.332467\n",
            "predicciones=-0.336901, observación=-0.422864\n",
            "predicciones=-0.426751, observación=-0.472645\n",
            "Test MSE: 0.001\n"
          ],
          "name": "stdout"
        },
        {
          "output_type": "display_data",
          "data": {
            "image/png": "[encoded data removed]",
            "text/plain": [
              "<Figure size 432x288 with 1 Axes>"
            ]
          },
          "metadata": {
            "tags": [],
            "needs_background": "light"
          }
        }
      ]
    },
    {
      "cell_type": "markdown",
      "metadata": {
        "id": "vyF3AysryMoW",
        "colab_type": "text"
      },
      "source": [
        "Como podemos ver, el modelo se comporta bastante bien, con un error cuadrático medio de 0.001."
      ]
    },
    {
      "cell_type": "code",
      "metadata": {
        "id": "QJlvKHg0r4gp",
        "colab_type": "code",
        "colab": {}
      },
      "source": [
        ""
      ],
      "execution_count": 0,
      "outputs": []
    }
  ]
}