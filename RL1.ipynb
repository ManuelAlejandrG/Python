{
 "cells": [
  {
   "cell_type": "markdown",
   "metadata": {},
   "source": [
    "# Modelo de Regresión Lineal"
   ]
  },
  {
   "cell_type": "code",
   "execution_count": 108,
   "metadata": {},
   "outputs": [],
   "source": [
    "import pandas as pd\n",
    "import numpy as np\n"
   ]
  },
  {
   "cell_type": "markdown",
   "metadata": {},
   "source": [
    "## Datos del Modelo "
   ]
  },
  {
   "cell_type": "code",
   "execution_count": 109,
   "metadata": {},
   "outputs": [
    {
     "data": {
      "text/html": [
       "<div>\n",
       "<style scoped>\n",
       "    .dataframe tbody tr th:only-of-type {\n",
       "        vertical-align: middle;\n",
       "    }\n",
       "\n",
       "    .dataframe tbody tr th {\n",
       "        vertical-align: top;\n",
       "    }\n",
       "\n",
       "    .dataframe thead th {\n",
       "        text-align: right;\n",
       "    }\n",
       "</style>\n",
       "<table border=\"1\" class=\"dataframe\">\n",
       "  <thead>\n",
       "    <tr style=\"text-align: right;\">\n",
       "      <th></th>\n",
       "      <th>Grasa (g)</th>\n",
       "      <th>Grasas Saturadas (g)</th>\n",
       "      <th>Colesterol (g)</th>\n",
       "      <th>Sodio (g)</th>\n",
       "      <th>Calorias</th>\n",
       "    </tr>\n",
       "  </thead>\n",
       "  <tbody>\n",
       "    <tr>\n",
       "      <th>Kraft Deluxe American</th>\n",
       "      <td>7</td>\n",
       "      <td>4.5</td>\n",
       "      <td>0.25</td>\n",
       "      <td>0.34</td>\n",
       "      <td>80</td>\n",
       "    </tr>\n",
       "    <tr>\n",
       "      <th>Kraft VelveetaSlices</th>\n",
       "      <td>5</td>\n",
       "      <td>3.5</td>\n",
       "      <td>0.15</td>\n",
       "      <td>0.30</td>\n",
       "      <td>70</td>\n",
       "    </tr>\n",
       "    <tr>\n",
       "      <th>Private Selection</th>\n",
       "      <td>8</td>\n",
       "      <td>5.5</td>\n",
       "      <td>0.25</td>\n",
       "      <td>0.52</td>\n",
       "      <td>100</td>\n",
       "    </tr>\n",
       "    <tr>\n",
       "      <th>Ralphs Singles</th>\n",
       "      <td>4</td>\n",
       "      <td>2.5</td>\n",
       "      <td>0.15</td>\n",
       "      <td>0.34</td>\n",
       "      <td>60</td>\n",
       "    </tr>\n",
       "    <tr>\n",
       "      <th>Kraft 2% MilkSingles</th>\n",
       "      <td>3</td>\n",
       "      <td>2.0</td>\n",
       "      <td>0.10</td>\n",
       "      <td>0.32</td>\n",
       "      <td>50</td>\n",
       "    </tr>\n",
       "    <tr>\n",
       "      <th>Kraft Singles American</th>\n",
       "      <td>5</td>\n",
       "      <td>3.5</td>\n",
       "      <td>0.15</td>\n",
       "      <td>0.29</td>\n",
       "      <td>70</td>\n",
       "    </tr>\n",
       "    <tr>\n",
       "      <th>Borden Singles</th>\n",
       "      <td>5</td>\n",
       "      <td>3.0</td>\n",
       "      <td>0.15</td>\n",
       "      <td>0.26</td>\n",
       "      <td>60</td>\n",
       "    </tr>\n",
       "    <tr>\n",
       "      <th>Lake to LakeAmerican</th>\n",
       "      <td>5</td>\n",
       "      <td>3.5</td>\n",
       "      <td>0.15</td>\n",
       "      <td>0.33</td>\n",
       "      <td>70</td>\n",
       "    </tr>\n",
       "  </tbody>\n",
       "</table>\n",
       "</div>"
      ],
      "text/plain": [
       "                        Grasa (g)  Grasas Saturadas (g)  Colesterol (g)  \\\n",
       "Kraft Deluxe American           7                   4.5            0.25   \n",
       "Kraft VelveetaSlices            5                   3.5            0.15   \n",
       "Private Selection               8                   5.5            0.25   \n",
       "Ralphs Singles                  4                   2.5            0.15   \n",
       "Kraft 2% MilkSingles            3                   2.0            0.10   \n",
       "Kraft Singles American          5                   3.5            0.15   \n",
       "Borden Singles                  5                   3.0            0.15   \n",
       "Lake to LakeAmerican            5                   3.5            0.15   \n",
       "\n",
       "                        Sodio (g)  Calorias  \n",
       "Kraft Deluxe American        0.34        80  \n",
       "Kraft VelveetaSlices         0.30        70  \n",
       "Private Selection            0.52       100  \n",
       "Ralphs Singles               0.34        60  \n",
       "Kraft 2% MilkSingles         0.32        50  \n",
       "Kraft Singles American       0.29        70  \n",
       "Borden Singles               0.26        60  \n",
       "Lake to LakeAmerican         0.33        70  "
      ]
     },
     "execution_count": 109,
     "metadata": {},
     "output_type": "execute_result"
    }
   ],
   "source": [
    "datos= pd.DataFrame({\"Grasa (g)\":[7,5,8,4,3,5,5,5],\n",
    "                     \"Grasas Saturadas (g)\":[4.5,3.5,5.5,2.5,2.0,3.5,3.0,3.5],\n",
    "                    \"Colesterol (g)\": [0.25,0.15,0.25,0.15,0.10,0.15,0.15,0.15],\n",
    "                    \"Sodio (g)\":[0.340,0.300,0.520,0.340,0.320,0.290,0.260,0.330], \n",
    "                    \"Calorias\": [80,70,100,60,50,70,60,70]}, \n",
    "                    index=[\"Kraft Deluxe American\",\"Kraft VelveetaSlices\",\n",
    "                              \"Private Selection\",\"Ralphs Singles\",\"Kraft 2% MilkSingles\",\n",
    "                              \"Kraft Singles American\",\"Borden Singles\",\n",
    "                              \"Lake to LakeAmerican\"])\n",
    "datos"
   ]
  },
  {
   "cell_type": "markdown",
   "metadata": {},
   "source": [
    "## Estadística Básica"
   ]
  },
  {
   "cell_type": "code",
   "execution_count": 63,
   "metadata": {},
   "outputs": [
    {
     "data": {
      "text/html": [
       "<div>\n",
       "<style scoped>\n",
       "    .dataframe tbody tr th:only-of-type {\n",
       "        vertical-align: middle;\n",
       "    }\n",
       "\n",
       "    .dataframe tbody tr th {\n",
       "        vertical-align: top;\n",
       "    }\n",
       "\n",
       "    .dataframe thead th {\n",
       "        text-align: right;\n",
       "    }\n",
       "</style>\n",
       "<table border=\"1\" class=\"dataframe\">\n",
       "  <thead>\n",
       "    <tr style=\"text-align: right;\">\n",
       "      <th></th>\n",
       "      <th>Grasa (g)</th>\n",
       "      <th>Grasas Saturadas (g)</th>\n",
       "      <th>Colesterol (g)</th>\n",
       "      <th>Sodio (g)</th>\n",
       "      <th>Calorias</th>\n",
       "    </tr>\n",
       "  </thead>\n",
       "  <tbody>\n",
       "    <tr>\n",
       "      <th>count</th>\n",
       "      <td>8.000000</td>\n",
       "      <td>8.000000</td>\n",
       "      <td>8.000000</td>\n",
       "      <td>8.000000</td>\n",
       "      <td>8.000000</td>\n",
       "    </tr>\n",
       "    <tr>\n",
       "      <th>mean</th>\n",
       "      <td>5.250000</td>\n",
       "      <td>3.500000</td>\n",
       "      <td>0.168750</td>\n",
       "      <td>0.337500</td>\n",
       "      <td>70.000000</td>\n",
       "    </tr>\n",
       "    <tr>\n",
       "      <th>std</th>\n",
       "      <td>1.581139</td>\n",
       "      <td>1.101946</td>\n",
       "      <td>0.053033</td>\n",
       "      <td>0.078695</td>\n",
       "      <td>15.118579</td>\n",
       "    </tr>\n",
       "    <tr>\n",
       "      <th>min</th>\n",
       "      <td>3.000000</td>\n",
       "      <td>2.000000</td>\n",
       "      <td>0.100000</td>\n",
       "      <td>0.260000</td>\n",
       "      <td>50.000000</td>\n",
       "    </tr>\n",
       "    <tr>\n",
       "      <th>25%</th>\n",
       "      <td>4.750000</td>\n",
       "      <td>2.875000</td>\n",
       "      <td>0.150000</td>\n",
       "      <td>0.297500</td>\n",
       "      <td>60.000000</td>\n",
       "    </tr>\n",
       "    <tr>\n",
       "      <th>50%</th>\n",
       "      <td>5.000000</td>\n",
       "      <td>3.500000</td>\n",
       "      <td>0.150000</td>\n",
       "      <td>0.325000</td>\n",
       "      <td>70.000000</td>\n",
       "    </tr>\n",
       "    <tr>\n",
       "      <th>75%</th>\n",
       "      <td>5.500000</td>\n",
       "      <td>3.750000</td>\n",
       "      <td>0.175000</td>\n",
       "      <td>0.340000</td>\n",
       "      <td>72.500000</td>\n",
       "    </tr>\n",
       "    <tr>\n",
       "      <th>max</th>\n",
       "      <td>8.000000</td>\n",
       "      <td>5.500000</td>\n",
       "      <td>0.250000</td>\n",
       "      <td>0.520000</td>\n",
       "      <td>100.000000</td>\n",
       "    </tr>\n",
       "  </tbody>\n",
       "</table>\n",
       "</div>"
      ],
      "text/plain": [
       "       Grasa (g)  Grasas Saturadas (g)  Colesterol (g)  Sodio (g)    Calorias\n",
       "count   8.000000              8.000000        8.000000   8.000000    8.000000\n",
       "mean    5.250000              3.500000        0.168750   0.337500   70.000000\n",
       "std     1.581139              1.101946        0.053033   0.078695   15.118579\n",
       "min     3.000000              2.000000        0.100000   0.260000   50.000000\n",
       "25%     4.750000              2.875000        0.150000   0.297500   60.000000\n",
       "50%     5.000000              3.500000        0.150000   0.325000   70.000000\n",
       "75%     5.500000              3.750000        0.175000   0.340000   72.500000\n",
       "max     8.000000              5.500000        0.250000   0.520000  100.000000"
      ]
     },
     "execution_count": 63,
     "metadata": {},
     "output_type": "execute_result"
    }
   ],
   "source": [
    "datos.describe()"
   ]
  },
  {
   "cell_type": "markdown",
   "metadata": {},
   "source": [
    "## Coeficientes de Correlación de Pearson"
   ]
  },
  {
   "cell_type": "code",
   "execution_count": 64,
   "metadata": {},
   "outputs": [
    {
     "data": {
      "text/html": [
       "<div>\n",
       "<style scoped>\n",
       "    .dataframe tbody tr th:only-of-type {\n",
       "        vertical-align: middle;\n",
       "    }\n",
       "\n",
       "    .dataframe tbody tr th {\n",
       "        vertical-align: top;\n",
       "    }\n",
       "\n",
       "    .dataframe thead th {\n",
       "        text-align: right;\n",
       "    }\n",
       "</style>\n",
       "<table border=\"1\" class=\"dataframe\">\n",
       "  <thead>\n",
       "    <tr style=\"text-align: right;\">\n",
       "      <th></th>\n",
       "      <th>Grasa (g)</th>\n",
       "      <th>Grasas Saturadas (g)</th>\n",
       "      <th>Colesterol (g)</th>\n",
       "      <th>Sodio (g)</th>\n",
       "      <th>Calorias</th>\n",
       "    </tr>\n",
       "  </thead>\n",
       "  <tbody>\n",
       "    <tr>\n",
       "      <th>Grasa (g)</th>\n",
       "      <td>1.000000</td>\n",
       "      <td>0.983904</td>\n",
       "      <td>0.958315</td>\n",
       "      <td>0.671649</td>\n",
       "      <td>0.956183</td>\n",
       "    </tr>\n",
       "    <tr>\n",
       "      <th>Grasas Saturadas (g)</th>\n",
       "      <td>0.983904</td>\n",
       "      <td>1.000000</td>\n",
       "      <td>0.916698</td>\n",
       "      <td>0.708377</td>\n",
       "      <td>0.986117</td>\n",
       "    </tr>\n",
       "    <tr>\n",
       "      <th>Colesterol (g)</th>\n",
       "      <td>0.958315</td>\n",
       "      <td>0.916698</td>\n",
       "      <td>1.000000</td>\n",
       "      <td>0.663211</td>\n",
       "      <td>0.890871</td>\n",
       "    </tr>\n",
       "    <tr>\n",
       "      <th>Sodio (g)</th>\n",
       "      <td>0.671649</td>\n",
       "      <td>0.708377</td>\n",
       "      <td>0.663211</td>\n",
       "      <td>1.000000</td>\n",
       "      <td>0.792482</td>\n",
       "    </tr>\n",
       "    <tr>\n",
       "      <th>Calorias</th>\n",
       "      <td>0.956183</td>\n",
       "      <td>0.986117</td>\n",
       "      <td>0.890871</td>\n",
       "      <td>0.792482</td>\n",
       "      <td>1.000000</td>\n",
       "    </tr>\n",
       "  </tbody>\n",
       "</table>\n",
       "</div>"
      ],
      "text/plain": [
       "                      Grasa (g)  Grasas Saturadas (g)  Colesterol (g)  \\\n",
       "Grasa (g)              1.000000              0.983904        0.958315   \n",
       "Grasas Saturadas (g)   0.983904              1.000000        0.916698   \n",
       "Colesterol (g)         0.958315              0.916698        1.000000   \n",
       "Sodio (g)              0.671649              0.708377        0.663211   \n",
       "Calorias               0.956183              0.986117        0.890871   \n",
       "\n",
       "                      Sodio (g)  Calorias  \n",
       "Grasa (g)              0.671649  0.956183  \n",
       "Grasas Saturadas (g)   0.708377  0.986117  \n",
       "Colesterol (g)         0.663211  0.890871  \n",
       "Sodio (g)              1.000000  0.792482  \n",
       "Calorias               0.792482  1.000000  "
      ]
     },
     "execution_count": 64,
     "metadata": {},
     "output_type": "execute_result"
    }
   ],
   "source": [
    "datos.corr()"
   ]
  },
  {
   "cell_type": "markdown",
   "metadata": {},
   "source": [
    "## Gráficas"
   ]
  },
  {
   "cell_type": "code",
   "execution_count": 65,
   "metadata": {},
   "outputs": [],
   "source": [
    "import matplotlib.pyplot as plt"
   ]
  },
  {
   "cell_type": "code",
   "execution_count": 44,
   "metadata": {},
   "outputs": [
    {
     "data": {
      "text/plain": [
       "<matplotlib.text.Text at 0x7fd9b327a048>"
      ]
     },
     "execution_count": 44,
     "metadata": {},
     "output_type": "execute_result"
    },
    {
     "data": {
      "image/png": "[encoded data removed]",
      "text/plain": [
       "<matplotlib.figure.Figure at 0x7fd9b32c1f60>"
      ]
     },
     "metadata": {
      "needs_background": "light"
     },
     "output_type": "display_data"
    }
   ],
   "source": [
    "plt.scatter(datos[\"Grasa (g)\"], datos[\"Grasas Saturadas (g)\"], color=\"b\")\n",
    "plt.title(\"Grasas  vs Grasas Saturadas\")\n",
    "plt.xlabel(\"Grasas\")\n",
    "plt.ylabel(\"Grasas Saturadas\")\n"
   ]
  },
  {
   "cell_type": "code",
   "execution_count": 66,
   "metadata": {},
   "outputs": [
    {
     "data": {
      "text/plain": [
       "<matplotlib.text.Text at 0x7fd9b0454eb8>"
      ]
     },
     "execution_count": 66,
     "metadata": {},
     "output_type": "execute_result"
    },
    {
     "data": {
      "image/png": "[encoded data removed]",
      "text/plain": [
       "<matplotlib.figure.Figure at 0x7fd9b049eeb8>"
      ]
     },
     "metadata": {
      "needs_background": "light"
     },
     "output_type": "display_data"
    }
   ],
   "source": [
    "plt.scatter(datos[\"Grasa (g)\"], datos[\"Colesterol (g)\"], color=\"red\")\n",
    "plt.title(\"Grasas  vs Colesterol\")\n",
    "plt.xlabel(\"Grasas\")\n",
    "plt.ylabel(\"Colesterol\")"
   ]
  },
  {
   "cell_type": "code",
   "execution_count": 67,
   "metadata": {},
   "outputs": [
    {
     "data": {
      "text/plain": [
       "<matplotlib.text.Text at 0x7fd9b03bb1d0>"
      ]
     },
     "execution_count": 67,
     "metadata": {},
     "output_type": "execute_result"
    },
    {
     "data": {
      "image/png": "[encoded data removed]",
      "text/plain": [
       "<matplotlib.figure.Figure at 0x7fd9b0464198>"
      ]
     },
     "metadata": {
      "needs_background": "light"
     },
     "output_type": "display_data"
    }
   ],
   "source": [
    "plt.scatter(datos[\"Grasa (g)\"], datos[\"Calorias\"], color=\"g\")\n",
    "plt.title(\"Grasas  vs Calorias\")\n",
    "plt.xlabel(\"Grasas\")\n",
    "plt.ylabel(\"Calorias\")"
   ]
  },
  {
   "cell_type": "code",
   "execution_count": 47,
   "metadata": {},
   "outputs": [
    {
     "data": {
      "text/plain": [
       "<matplotlib.text.Text at 0x7fd9b37dd828>"
      ]
     },
     "execution_count": 47,
     "metadata": {},
     "output_type": "execute_result"
    },
    {
     "data": {
      "image/png": "[encoded data removed]",
      "text/plain": [
       "<matplotlib.figure.Figure at 0x7fd9b369c278>"
      ]
     },
     "metadata": {
      "needs_background": "light"
     },
     "output_type": "display_data"
    }
   ],
   "source": [
    "plt.scatter(datos[\"Grasas Saturadas (g)\"], datos[\"Colesterol (g)\"], color=\"b\")\n",
    "plt.title(\"Grasas Saturadas vs Colesterol\")\n",
    "plt.xlabel(\"Grasas Saturadas\")\n",
    "plt.ylabel(\"Colesterol\")\n"
   ]
  },
  {
   "cell_type": "code",
   "execution_count": 68,
   "metadata": {},
   "outputs": [
    {
     "data": {
      "text/plain": [
       "<matplotlib.text.Text at 0x7fd9b0343668>"
      ]
     },
     "execution_count": 68,
     "metadata": {},
     "output_type": "execute_result"
    },
    {
     "data": {
      "image/png": "[encoded data removed]",
      "text/plain": [
       "<matplotlib.figure.Figure at 0x7fd9b03930f0>"
      ]
     },
     "metadata": {
      "needs_background": "light"
     },
     "output_type": "display_data"
    }
   ],
   "source": [
    "plt.scatter(datos[\"Grasas Saturadas (g)\"], datos[\"Calorias\"], color=\"r\")\n",
    "plt.title(\"Grasas Saturadas vs Calorias\")\n",
    "plt.xlabel(\"Grasas Saturadas\")\n",
    "plt.ylabel(\"Calorias\")\n"
   ]
  },
  {
   "cell_type": "markdown",
   "metadata": {},
   "source": [
    "## Modelo para predecir Grasa (g)"
   ]
  },
  {
   "cell_type": "code",
   "execution_count": 82,
   "metadata": {},
   "outputs": [
    {
     "data": {
      "text/html": [
       "<div>\n",
       "<style scoped>\n",
       "    .dataframe tbody tr th:only-of-type {\n",
       "        vertical-align: middle;\n",
       "    }\n",
       "\n",
       "    .dataframe tbody tr th {\n",
       "        vertical-align: top;\n",
       "    }\n",
       "\n",
       "    .dataframe thead th {\n",
       "        text-align: right;\n",
       "    }\n",
       "</style>\n",
       "<table border=\"1\" class=\"dataframe\">\n",
       "  <thead>\n",
       "    <tr style=\"text-align: right;\">\n",
       "      <th></th>\n",
       "      <th>Grasas Saturadas (g)</th>\n",
       "      <th>Colesterol (g)</th>\n",
       "      <th>Sodio (g)</th>\n",
       "      <th>Calorias</th>\n",
       "    </tr>\n",
       "  </thead>\n",
       "  <tbody>\n",
       "    <tr>\n",
       "      <th>Kraft Deluxe American</th>\n",
       "      <td>4.5</td>\n",
       "      <td>0.25</td>\n",
       "      <td>0.34</td>\n",
       "      <td>80</td>\n",
       "    </tr>\n",
       "    <tr>\n",
       "      <th>Kraft VelveetaSlices</th>\n",
       "      <td>3.5</td>\n",
       "      <td>0.15</td>\n",
       "      <td>0.30</td>\n",
       "      <td>70</td>\n",
       "    </tr>\n",
       "    <tr>\n",
       "      <th>Private Selection</th>\n",
       "      <td>5.5</td>\n",
       "      <td>0.25</td>\n",
       "      <td>0.52</td>\n",
       "      <td>100</td>\n",
       "    </tr>\n",
       "    <tr>\n",
       "      <th>Ralphs Singles</th>\n",
       "      <td>2.5</td>\n",
       "      <td>0.15</td>\n",
       "      <td>0.34</td>\n",
       "      <td>60</td>\n",
       "    </tr>\n",
       "    <tr>\n",
       "      <th>Kraft 2% MilkSingles</th>\n",
       "      <td>2.0</td>\n",
       "      <td>0.10</td>\n",
       "      <td>0.32</td>\n",
       "      <td>50</td>\n",
       "    </tr>\n",
       "    <tr>\n",
       "      <th>Kraft Singles American</th>\n",
       "      <td>3.5</td>\n",
       "      <td>0.15</td>\n",
       "      <td>0.29</td>\n",
       "      <td>70</td>\n",
       "    </tr>\n",
       "    <tr>\n",
       "      <th>Borden Singles</th>\n",
       "      <td>3.0</td>\n",
       "      <td>0.15</td>\n",
       "      <td>0.26</td>\n",
       "      <td>60</td>\n",
       "    </tr>\n",
       "    <tr>\n",
       "      <th>Lake to LakeAmerican</th>\n",
       "      <td>3.5</td>\n",
       "      <td>0.15</td>\n",
       "      <td>0.33</td>\n",
       "      <td>70</td>\n",
       "    </tr>\n",
       "  </tbody>\n",
       "</table>\n",
       "</div>"
      ],
      "text/plain": [
       "                        Grasas Saturadas (g)  Colesterol (g)  Sodio (g)  \\\n",
       "Kraft Deluxe American                    4.5            0.25       0.34   \n",
       "Kraft VelveetaSlices                     3.5            0.15       0.30   \n",
       "Private Selection                        5.5            0.25       0.52   \n",
       "Ralphs Singles                           2.5            0.15       0.34   \n",
       "Kraft 2% MilkSingles                     2.0            0.10       0.32   \n",
       "Kraft Singles American                   3.5            0.15       0.29   \n",
       "Borden Singles                           3.0            0.15       0.26   \n",
       "Lake to LakeAmerican                     3.5            0.15       0.33   \n",
       "\n",
       "                        Calorias  \n",
       "Kraft Deluxe American         80  \n",
       "Kraft VelveetaSlices          70  \n",
       "Private Selection            100  \n",
       "Ralphs Singles                60  \n",
       "Kraft 2% MilkSingles          50  \n",
       "Kraft Singles American        70  \n",
       "Borden Singles                60  \n",
       "Lake to LakeAmerican          70  "
      ]
     },
     "execution_count": 82,
     "metadata": {},
     "output_type": "execute_result"
    }
   ],
   "source": [
    "from sklearn.linear_model import LinearRegression\n",
    "X_pred = datos.iloc[:,1:]\n",
    "\n",
    "Y=datos[\"Grasa (g)\"]"
   ]
  },
  {
   "cell_type": "code",
   "execution_count": 83,
   "metadata": {},
   "outputs": [
    {
     "data": {
      "text/plain": [
       "LinearRegression(copy_X=True, fit_intercept=True, n_jobs=None,\n",
       "         normalize=False)"
      ]
     },
     "execution_count": 83,
     "metadata": {},
     "output_type": "execute_result"
    }
   ],
   "source": [
    "lm = LinearRegression()\n",
    "lm.fit(X_pred, Y)"
   ]
  },
  {
   "cell_type": "markdown",
   "metadata": {},
   "source": [
    "## Intersepción con el eje x"
   ]
  },
  {
   "cell_type": "code",
   "execution_count": 84,
   "metadata": {},
   "outputs": [
    {
     "data": {
      "text/plain": [
       "1.1408450704234756"
      ]
     },
     "execution_count": 84,
     "metadata": {},
     "output_type": "execute_result"
    }
   ],
   "source": [
    "lm.intercept_"
   ]
  },
  {
   "cell_type": "markdown",
   "metadata": {},
   "source": [
    "## Coeficientes "
   ]
  },
  {
   "cell_type": "code",
   "execution_count": 85,
   "metadata": {},
   "outputs": [
    {
     "data": {
      "text/plain": [
       "array([ 1.59624413,  9.38967136,  0.46948357, -0.04600939])"
      ]
     },
     "execution_count": 85,
     "metadata": {},
     "output_type": "execute_result"
    }
   ],
   "source": [
    "lm.coef_"
   ]
  },
  {
   "cell_type": "markdown",
   "metadata": {},
   "source": [
    "## Porcentaje de exactitud del modelo"
   ]
  },
  {
   "cell_type": "code",
   "execution_count": 86,
   "metadata": {},
   "outputs": [
    {
     "data": {
      "text/plain": [
       "99.14151576123406"
      ]
     },
     "execution_count": 86,
     "metadata": {},
     "output_type": "execute_result"
    }
   ],
   "source": [
    "lm.score(X_pred, Y)*100"
   ]
  },
  {
   "cell_type": "markdown",
   "metadata": {},
   "source": [
    "## Valor a predecir Grasa (g)"
   ]
  },
  {
   "cell_type": "code",
   "execution_count": 106,
   "metadata": {},
   "outputs": [
    {
     "data": {
      "text/plain": [
       "(1, 4)"
      ]
     },
     "execution_count": 106,
     "metadata": {},
     "output_type": "execute_result"
    }
   ],
   "source": [
    "predecir = pd.DataFrame({\n",
    "                     \"Grasas Saturadas (g)\":[4.5],\n",
    "                    \"Colesterol (g)\": [0.25],\n",
    "                    \"Sodio (g)\":[0.320], \n",
    "                    \"Calorias\": [70]})\n",
    "predecir.shape"
   ]
  },
  {
   "cell_type": "markdown",
   "metadata": {},
   "source": [
    "## Predicción"
   ]
  },
  {
   "cell_type": "code",
   "execution_count": 107,
   "metadata": {},
   "outputs": [
    {
     "data": {
      "text/plain": [
       "array([7.60093897])"
      ]
     },
     "execution_count": 107,
     "metadata": {},
     "output_type": "execute_result"
    }
   ],
   "source": [
    "lm.predict(predecir)"
   ]
  },
  {
   "cell_type": "code",
   "execution_count": null,
   "metadata": {},
   "outputs": [],
   "source": []
  }
 ],
 "metadata": {
  "kernelspec": {
   "display_name": "Python 3",
   "language": "python",
   "name": "python3"
  },
  "language_info": {
   "codemirror_mode": {
    "name": "ipython",
    "version": 3
   },
   "file_extension": ".py",
   "mimetype": "text/x-python",
   "name": "python",
   "nbconvert_exporter": "python",
   "pygments_lexer": "ipython3",
   "version": "3.6.7"
  }
 },
 "nbformat": 4,
 "nbformat_minor": 2
}
